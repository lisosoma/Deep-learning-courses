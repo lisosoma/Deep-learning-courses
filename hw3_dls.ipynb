{
  "cells": [
    {
      "cell_type": "markdown",
      "metadata": {
        "id": "view-in-github",
        "colab_type": "text"
      },
      "source": [
        "<a href=\"https://colab.research.google.com/github/lisosoma/Deep-learning-courses/blob/main/hw3_dls.ipynb\" target=\"_parent\"><img src=\"https://colab.research.google.com/assets/colab-badge.svg\" alt=\"Open In Colab\"/></a>"
      ]
    },
    {
      "cell_type": "markdown",
      "id": "31b5ab1c",
      "metadata": {
        "id": "31b5ab1c",
        "papermill": {
          "duration": 0.019186,
          "end_time": "2022-10-15T20:30:38.644517",
          "exception": false,
          "start_time": "2022-10-15T20:30:38.625331",
          "status": "completed"
        },
        "tags": []
      },
      "source": [
        "<p style=\"align: center;\"><img align=center src=\"https://s8.hostingkartinok.com/uploads/images/2018/08/308b49fcfbc619d629fe4604bceb67ac.jpg\" width=500 height=450/></p>\n",
        "\n",
        "<h3 style=\"text-align: center;\"><b>Школа глубокого обучения ФПМИ МФТИ</b></h3>\n",
        "\n",
        "<h3 style=\"text-align: center;\"><b>Домашнее задание. Продвинутый поток. Весна 2021</b></h3>\n",
        "\n",
        "Это домашнее задание будет посвящено полноценному решению задачи машинного обучения."
      ]
    },
    {
      "cell_type": "markdown",
      "id": "63362825",
      "metadata": {
        "id": "63362825",
        "papermill": {
          "duration": 0.015425,
          "end_time": "2022-10-15T20:30:38.675411",
          "exception": false,
          "start_time": "2022-10-15T20:30:38.659986",
          "status": "completed"
        },
        "tags": []
      },
      "source": [
        "Есть две части этого домашнего задания: \n",
        "* Сделать полноценный отчет о вашей работе: как вы обработали данные, какие модели попробовали и какие результаты получились (максимум 10 баллов). За каждую выполненную часть будет начислено определенное количество баллов.\n",
        "* Лучшее решение отправить в соревнование на [kaggle](https://www.kaggle.com/c/advanced-dls-spring-2021/) (максимум 5 баллов). За прохождение определенного порогов будут начисляться баллы.\n",
        "\n",
        "\n",
        "**Обе части будут проверяться в формате peer-review. Т.е. вашу посылку на степик будут проверять несколько других студентов и аггрегация их оценок будет выставлена. В то же время вам тоже нужно будет проверить несколько других учеников.**\n",
        "\n",
        "**Пожалуйста, делайте свою работу чистой и понятной, чтобы облегчить проверку. Если у вас будут проблемы с решением или хочется совета, то пишите в наш чат в телеграме или в лс @runfme. Если вы захотите проаппелировать оценку, то пипшите в лс @runfme.**\n",
        "\n",
        "**Во всех пунктах указания это минимальный набор вещей, которые стоит сделать. Если вы можете сделать какой-то шаг лучше или добавить что-то свое - дерзайте!**"
      ]
    },
    {
      "cell_type": "markdown",
      "id": "b3df1c71",
      "metadata": {
        "id": "b3df1c71",
        "papermill": {
          "duration": 0.015455,
          "end_time": "2022-10-15T20:30:38.705769",
          "exception": false,
          "start_time": "2022-10-15T20:30:38.690314",
          "status": "completed"
        },
        "tags": []
      },
      "source": [
        "# Как проверять?\n",
        "\n",
        "Ставьте полный балл, если выполнены все рекомендации или сделано что-то более интересное и сложное. За каждый отсустствующий пункт из рекомендация снижайте 1 балл."
      ]
    },
    {
      "cell_type": "markdown",
      "id": "128755eb",
      "metadata": {
        "id": "128755eb",
        "papermill": {
          "duration": 0.014921,
          "end_time": "2022-10-15T20:30:38.736370",
          "exception": false,
          "start_time": "2022-10-15T20:30:38.721449",
          "status": "completed"
        },
        "tags": []
      },
      "source": [
        "# Метрика\n",
        "\n",
        "Перед решением любой задачи важно понимать, как будет оцениваться ваше решение. В данном случае мы используем стандартную для задачи классификации метрику ROC-AUC. Ее можно вычислить используя только предсказанные вероятности и истинные классы без конкретного порога классификации + она раотает даже если классы в данных сильно несбалансированны (примеров одного класса в десятки раз больше примеров длугого). Именно поэтому она очень удобна для соревнований.\n",
        "\n",
        "Посчитать ее легко:\n"
      ]
    },
    {
      "cell_type": "code",
      "execution_count": null,
      "id": "6d066216",
      "metadata": {
        "execution": {
          "iopub.execute_input": "2022-10-15T20:30:38.768515Z",
          "iopub.status.busy": "2022-10-15T20:30:38.767668Z",
          "iopub.status.idle": "2022-10-15T20:30:40.121191Z",
          "shell.execute_reply": "2022-10-15T20:30:40.119722Z"
        },
        "id": "6d066216",
        "papermill": {
          "duration": 1.372925,
          "end_time": "2022-10-15T20:30:40.124009",
          "exception": false,
          "start_time": "2022-10-15T20:30:38.751084",
          "status": "completed"
        },
        "tags": [],
        "outputId": "4f58db53-a5b7-4929-aef1-0edad19f3d7a"
      },
      "outputs": [
        {
          "data": {
            "text/plain": [
              "0.8333333333333333"
            ]
          },
          "execution_count": 1,
          "metadata": {},
          "output_type": "execute_result"
        }
      ],
      "source": [
        "from sklearn.metrics import roc_auc_score\n",
        "\n",
        "y_true = [\n",
        "    0,\n",
        "    1,\n",
        "    1,\n",
        "    0,\n",
        "    1\n",
        "]\n",
        "\n",
        "y_predictions = [\n",
        "    0.1,\n",
        "    0.9,\n",
        "    0.4,\n",
        "    0.6,\n",
        "    0.61\n",
        "]\n",
        "\n",
        "roc_auc_score(y_true, y_predictions)"
      ]
    },
    {
      "cell_type": "markdown",
      "id": "ee8cc2a2",
      "metadata": {
        "id": "ee8cc2a2",
        "papermill": {
          "duration": 0.01494,
          "end_time": "2022-10-15T20:30:40.154878",
          "exception": false,
          "start_time": "2022-10-15T20:30:40.139938",
          "status": "completed"
        },
        "tags": []
      },
      "source": [
        "# Первая часть. Исследование"
      ]
    },
    {
      "cell_type": "code",
      "execution_count": null,
      "id": "99e94b2f",
      "metadata": {
        "execution": {
          "iopub.execute_input": "2022-10-15T20:30:40.187779Z",
          "iopub.status.busy": "2022-10-15T20:30:40.187357Z",
          "iopub.status.idle": "2022-10-15T20:30:40.193311Z",
          "shell.execute_reply": "2022-10-15T20:30:40.191984Z"
        },
        "id": "99e94b2f",
        "papermill": {
          "duration": 0.026266,
          "end_time": "2022-10-15T20:30:40.197270",
          "exception": false,
          "start_time": "2022-10-15T20:30:40.171004",
          "status": "completed"
        },
        "tags": []
      },
      "outputs": [],
      "source": [
        "import pandas as pd\n",
        "import numpy as np\n",
        "from matplotlib import pyplot as plt"
      ]
    },
    {
      "cell_type": "markdown",
      "id": "bcc592a7",
      "metadata": {
        "id": "bcc592a7",
        "papermill": {
          "duration": 0.014897,
          "end_time": "2022-10-15T20:30:40.228248",
          "exception": false,
          "start_time": "2022-10-15T20:30:40.213351",
          "status": "completed"
        },
        "tags": []
      },
      "source": [
        "## Загрузка данных (2 балла)\n",
        "\n",
        "1) Посмотрите на случайные строчки. \n",
        "\n",
        "2) Посмотрите, есть ли в датасете незаполненные значения (nan'ы) с помощью data.isna() или data.info() и, если нужно, замените их на что-то. Будет хорошо, если вы построите табличку с количеством nan в каждой колонке."
      ]
    },
    {
      "cell_type": "code",
      "execution_count": null,
      "id": "1c09ab6c",
      "metadata": {
        "execution": {
          "iopub.execute_input": "2022-10-15T20:30:40.260550Z",
          "iopub.status.busy": "2022-10-15T20:30:40.260118Z",
          "iopub.status.idle": "2022-10-15T20:30:40.308351Z",
          "shell.execute_reply": "2022-10-15T20:30:40.306984Z"
        },
        "id": "1c09ab6c",
        "papermill": {
          "duration": 0.067879,
          "end_time": "2022-10-15T20:30:40.311288",
          "exception": false,
          "start_time": "2022-10-15T20:30:40.243409",
          "status": "completed"
        },
        "tags": []
      },
      "outputs": [],
      "source": [
        "data = pd.read_csv('../input/advanced-dls-spring-2021/train.csv')"
      ]
    },
    {
      "cell_type": "code",
      "execution_count": null,
      "id": "af1f298c",
      "metadata": {
        "execution": {
          "iopub.execute_input": "2022-10-15T20:30:40.344841Z",
          "iopub.status.busy": "2022-10-15T20:30:40.344451Z",
          "iopub.status.idle": "2022-10-15T20:30:40.352071Z",
          "shell.execute_reply": "2022-10-15T20:30:40.350577Z"
        },
        "id": "af1f298c",
        "papermill": {
          "duration": 0.028462,
          "end_time": "2022-10-15T20:30:40.355111",
          "exception": false,
          "start_time": "2022-10-15T20:30:40.326649",
          "status": "completed"
        },
        "tags": []
      },
      "outputs": [],
      "source": [
        "# Для вашего удобства списки с именами разных колонок\n",
        "\n",
        "# Числовые признаки\n",
        "num_cols = [\n",
        "    'ClientPeriod',\n",
        "    'MonthlySpending',\n",
        "    'TotalSpent'\n",
        "]\n",
        "\n",
        "# Категориальные признаки\n",
        "cat_cols = [\n",
        "    'Sex',\n",
        "    'IsSeniorCitizen',\n",
        "    'HasPartner',\n",
        "    'HasChild',\n",
        "    'HasPhoneService',\n",
        "    'HasMultiplePhoneNumbers',\n",
        "    'HasInternetService',\n",
        "    'HasOnlineSecurityService',\n",
        "    'HasOnlineBackup',\n",
        "    'HasDeviceProtection',\n",
        "    'HasTechSupportAccess',\n",
        "    'HasOnlineTV',\n",
        "    'HasMovieSubscription',\n",
        "    'HasContractPhone',\n",
        "    'IsBillingPaperless',\n",
        "    'PaymentMethod'\n",
        "]\n",
        "\n",
        "feature_cols = num_cols + cat_cols\n",
        "target_col = 'Churn'"
      ]
    },
    {
      "cell_type": "markdown",
      "id": "6211d345",
      "metadata": {
        "id": "6211d345",
        "papermill": {
          "duration": 0.015187,
          "end_time": "2022-10-15T20:30:40.386485",
          "exception": false,
          "start_time": "2022-10-15T20:30:40.371298",
          "status": "completed"
        },
        "tags": []
      },
      "source": [
        "Посмотрим на случайные строчки из датасета"
      ]
    },
    {
      "cell_type": "code",
      "execution_count": null,
      "id": "01f20fc0",
      "metadata": {
        "execution": {
          "iopub.execute_input": "2022-10-15T20:30:40.420444Z",
          "iopub.status.busy": "2022-10-15T20:30:40.420013Z",
          "iopub.status.idle": "2022-10-15T20:30:40.427192Z",
          "shell.execute_reply": "2022-10-15T20:30:40.425432Z"
        },
        "id": "01f20fc0",
        "papermill": {
          "duration": 0.027155,
          "end_time": "2022-10-15T20:30:40.430052",
          "exception": false,
          "start_time": "2022-10-15T20:30:40.402897",
          "status": "completed"
        },
        "tags": []
      },
      "outputs": [],
      "source": [
        "np.random.seed(42)"
      ]
    },
    {
      "cell_type": "code",
      "execution_count": null,
      "id": "2b8fb925",
      "metadata": {
        "execution": {
          "iopub.execute_input": "2022-10-15T20:30:40.465283Z",
          "iopub.status.busy": "2022-10-15T20:30:40.464841Z",
          "iopub.status.idle": "2022-10-15T20:30:40.502599Z",
          "shell.execute_reply": "2022-10-15T20:30:40.501395Z"
        },
        "id": "2b8fb925",
        "outputId": "be186c43-d4c1-4e0f-c79f-6e674f6ecf14",
        "papermill": {
          "duration": 0.060522,
          "end_time": "2022-10-15T20:30:40.505906",
          "exception": false,
          "start_time": "2022-10-15T20:30:40.445384",
          "status": "completed"
        },
        "tags": []
      },
      "outputs": [
        {
          "data": {
            "text/html": [
              "<div>\n",
              "<style scoped>\n",
              "    .dataframe tbody tr th:only-of-type {\n",
              "        vertical-align: middle;\n",
              "    }\n",
              "\n",
              "    .dataframe tbody tr th {\n",
              "        vertical-align: top;\n",
              "    }\n",
              "\n",
              "    .dataframe thead th {\n",
              "        text-align: right;\n",
              "    }\n",
              "</style>\n",
              "<table border=\"1\" class=\"dataframe\">\n",
              "  <thead>\n",
              "    <tr style=\"text-align: right;\">\n",
              "      <th></th>\n",
              "      <th>ClientPeriod</th>\n",
              "      <th>MonthlySpending</th>\n",
              "      <th>TotalSpent</th>\n",
              "      <th>Sex</th>\n",
              "      <th>IsSeniorCitizen</th>\n",
              "      <th>HasPartner</th>\n",
              "      <th>HasChild</th>\n",
              "      <th>HasPhoneService</th>\n",
              "      <th>HasMultiplePhoneNumbers</th>\n",
              "      <th>HasInternetService</th>\n",
              "      <th>HasOnlineSecurityService</th>\n",
              "      <th>HasOnlineBackup</th>\n",
              "      <th>HasDeviceProtection</th>\n",
              "      <th>HasTechSupportAccess</th>\n",
              "      <th>HasOnlineTV</th>\n",
              "      <th>HasMovieSubscription</th>\n",
              "      <th>HasContractPhone</th>\n",
              "      <th>IsBillingPaperless</th>\n",
              "      <th>PaymentMethod</th>\n",
              "      <th>Churn</th>\n",
              "    </tr>\n",
              "  </thead>\n",
              "  <tbody>\n",
              "    <tr>\n",
              "      <th>1448</th>\n",
              "      <td>9</td>\n",
              "      <td>45.40</td>\n",
              "      <td>418.8</td>\n",
              "      <td>Male</td>\n",
              "      <td>0</td>\n",
              "      <td>No</td>\n",
              "      <td>No</td>\n",
              "      <td>No</td>\n",
              "      <td>No phone service</td>\n",
              "      <td>DSL</td>\n",
              "      <td>No</td>\n",
              "      <td>No</td>\n",
              "      <td>No</td>\n",
              "      <td>No</td>\n",
              "      <td>Yes</td>\n",
              "      <td>Yes</td>\n",
              "      <td>Month-to-month</td>\n",
              "      <td>Yes</td>\n",
              "      <td>Electronic check</td>\n",
              "      <td>1</td>\n",
              "    </tr>\n",
              "    <tr>\n",
              "      <th>4792</th>\n",
              "      <td>37</td>\n",
              "      <td>70.35</td>\n",
              "      <td>2552.9</td>\n",
              "      <td>Male</td>\n",
              "      <td>0</td>\n",
              "      <td>No</td>\n",
              "      <td>No</td>\n",
              "      <td>Yes</td>\n",
              "      <td>No</td>\n",
              "      <td>Fiber optic</td>\n",
              "      <td>No</td>\n",
              "      <td>No</td>\n",
              "      <td>No</td>\n",
              "      <td>No</td>\n",
              "      <td>No</td>\n",
              "      <td>No</td>\n",
              "      <td>Month-to-month</td>\n",
              "      <td>Yes</td>\n",
              "      <td>Mailed check</td>\n",
              "      <td>0</td>\n",
              "    </tr>\n",
              "    <tr>\n",
              "      <th>8</th>\n",
              "      <td>50</td>\n",
              "      <td>105.95</td>\n",
              "      <td>5341.8</td>\n",
              "      <td>Male</td>\n",
              "      <td>0</td>\n",
              "      <td>Yes</td>\n",
              "      <td>Yes</td>\n",
              "      <td>Yes</td>\n",
              "      <td>Yes</td>\n",
              "      <td>Fiber optic</td>\n",
              "      <td>Yes</td>\n",
              "      <td>No</td>\n",
              "      <td>Yes</td>\n",
              "      <td>No</td>\n",
              "      <td>Yes</td>\n",
              "      <td>Yes</td>\n",
              "      <td>Month-to-month</td>\n",
              "      <td>No</td>\n",
              "      <td>Credit card (automatic)</td>\n",
              "      <td>1</td>\n",
              "    </tr>\n",
              "    <tr>\n",
              "      <th>3964</th>\n",
              "      <td>44</td>\n",
              "      <td>100.10</td>\n",
              "      <td>4378.35</td>\n",
              "      <td>Male</td>\n",
              "      <td>0</td>\n",
              "      <td>No</td>\n",
              "      <td>No</td>\n",
              "      <td>Yes</td>\n",
              "      <td>No</td>\n",
              "      <td>Fiber optic</td>\n",
              "      <td>No</td>\n",
              "      <td>No</td>\n",
              "      <td>Yes</td>\n",
              "      <td>Yes</td>\n",
              "      <td>Yes</td>\n",
              "      <td>Yes</td>\n",
              "      <td>Two year</td>\n",
              "      <td>No</td>\n",
              "      <td>Bank transfer (automatic)</td>\n",
              "      <td>0</td>\n",
              "    </tr>\n",
              "    <tr>\n",
              "      <th>240</th>\n",
              "      <td>25</td>\n",
              "      <td>20.95</td>\n",
              "      <td>495.15</td>\n",
              "      <td>Male</td>\n",
              "      <td>0</td>\n",
              "      <td>Yes</td>\n",
              "      <td>No</td>\n",
              "      <td>Yes</td>\n",
              "      <td>No</td>\n",
              "      <td>No</td>\n",
              "      <td>No internet service</td>\n",
              "      <td>No internet service</td>\n",
              "      <td>No internet service</td>\n",
              "      <td>No internet service</td>\n",
              "      <td>No internet service</td>\n",
              "      <td>No internet service</td>\n",
              "      <td>One year</td>\n",
              "      <td>Yes</td>\n",
              "      <td>Bank transfer (automatic)</td>\n",
              "      <td>0</td>\n",
              "    </tr>\n",
              "    <tr>\n",
              "      <th>1942</th>\n",
              "      <td>39</td>\n",
              "      <td>50.75</td>\n",
              "      <td>2011.4</td>\n",
              "      <td>Female</td>\n",
              "      <td>0</td>\n",
              "      <td>No</td>\n",
              "      <td>No</td>\n",
              "      <td>No</td>\n",
              "      <td>No phone service</td>\n",
              "      <td>DSL</td>\n",
              "      <td>No</td>\n",
              "      <td>No</td>\n",
              "      <td>Yes</td>\n",
              "      <td>No</td>\n",
              "      <td>Yes</td>\n",
              "      <td>Yes</td>\n",
              "      <td>Month-to-month</td>\n",
              "      <td>Yes</td>\n",
              "      <td>Electronic check</td>\n",
              "      <td>1</td>\n",
              "    </tr>\n",
              "    <tr>\n",
              "      <th>1859</th>\n",
              "      <td>52</td>\n",
              "      <td>79.20</td>\n",
              "      <td>4016.3</td>\n",
              "      <td>Male</td>\n",
              "      <td>0</td>\n",
              "      <td>Yes</td>\n",
              "      <td>Yes</td>\n",
              "      <td>Yes</td>\n",
              "      <td>No</td>\n",
              "      <td>DSL</td>\n",
              "      <td>Yes</td>\n",
              "      <td>Yes</td>\n",
              "      <td>Yes</td>\n",
              "      <td>No</td>\n",
              "      <td>Yes</td>\n",
              "      <td>Yes</td>\n",
              "      <td>Two year</td>\n",
              "      <td>No</td>\n",
              "      <td>Electronic check</td>\n",
              "      <td>0</td>\n",
              "    </tr>\n",
              "  </tbody>\n",
              "</table>\n",
              "</div>"
            ],
            "text/plain": [
              "      ClientPeriod  MonthlySpending TotalSpent     Sex  IsSeniorCitizen  \\\n",
              "1448             9            45.40      418.8    Male                0   \n",
              "4792            37            70.35     2552.9    Male                0   \n",
              "8               50           105.95     5341.8    Male                0   \n",
              "3964            44           100.10    4378.35    Male                0   \n",
              "240             25            20.95     495.15    Male                0   \n",
              "1942            39            50.75     2011.4  Female                0   \n",
              "1859            52            79.20     4016.3    Male                0   \n",
              "\n",
              "     HasPartner HasChild HasPhoneService HasMultiplePhoneNumbers  \\\n",
              "1448         No       No              No        No phone service   \n",
              "4792         No       No             Yes                      No   \n",
              "8           Yes      Yes             Yes                     Yes   \n",
              "3964         No       No             Yes                      No   \n",
              "240         Yes       No             Yes                      No   \n",
              "1942         No       No              No        No phone service   \n",
              "1859        Yes      Yes             Yes                      No   \n",
              "\n",
              "     HasInternetService HasOnlineSecurityService      HasOnlineBackup  \\\n",
              "1448                DSL                       No                   No   \n",
              "4792        Fiber optic                       No                   No   \n",
              "8           Fiber optic                      Yes                   No   \n",
              "3964        Fiber optic                       No                   No   \n",
              "240                  No      No internet service  No internet service   \n",
              "1942                DSL                       No                   No   \n",
              "1859                DSL                      Yes                  Yes   \n",
              "\n",
              "      HasDeviceProtection HasTechSupportAccess          HasOnlineTV  \\\n",
              "1448                   No                   No                  Yes   \n",
              "4792                   No                   No                   No   \n",
              "8                     Yes                   No                  Yes   \n",
              "3964                  Yes                  Yes                  Yes   \n",
              "240   No internet service  No internet service  No internet service   \n",
              "1942                  Yes                   No                  Yes   \n",
              "1859                  Yes                   No                  Yes   \n",
              "\n",
              "     HasMovieSubscription HasContractPhone IsBillingPaperless  \\\n",
              "1448                  Yes   Month-to-month                Yes   \n",
              "4792                   No   Month-to-month                Yes   \n",
              "8                     Yes   Month-to-month                 No   \n",
              "3964                  Yes         Two year                 No   \n",
              "240   No internet service         One year                Yes   \n",
              "1942                  Yes   Month-to-month                Yes   \n",
              "1859                  Yes         Two year                 No   \n",
              "\n",
              "                  PaymentMethod  Churn  \n",
              "1448           Electronic check      1  \n",
              "4792               Mailed check      0  \n",
              "8       Credit card (automatic)      1  \n",
              "3964  Bank transfer (automatic)      0  \n",
              "240   Bank transfer (automatic)      0  \n",
              "1942           Electronic check      1  \n",
              "1859           Electronic check      0  "
            ]
          },
          "execution_count": 6,
          "metadata": {},
          "output_type": "execute_result"
        }
      ],
      "source": [
        "data.sample(n=7)"
      ]
    },
    {
      "cell_type": "code",
      "execution_count": null,
      "id": "3640e895",
      "metadata": {
        "execution": {
          "iopub.execute_input": "2022-10-15T20:30:40.542344Z",
          "iopub.status.busy": "2022-10-15T20:30:40.541905Z",
          "iopub.status.idle": "2022-10-15T20:30:40.573374Z",
          "shell.execute_reply": "2022-10-15T20:30:40.571125Z"
        },
        "id": "3640e895",
        "outputId": "dc89e605-c970-4cd3-fb37-086749c19e14",
        "papermill": {
          "duration": 0.054147,
          "end_time": "2022-10-15T20:30:40.576738",
          "exception": false,
          "start_time": "2022-10-15T20:30:40.522591",
          "status": "completed"
        },
        "tags": []
      },
      "outputs": [
        {
          "name": "stdout",
          "output_type": "stream",
          "text": [
            "<class 'pandas.core.frame.DataFrame'>\n",
            "RangeIndex: 5282 entries, 0 to 5281\n",
            "Data columns (total 20 columns):\n",
            " #   Column                    Non-Null Count  Dtype  \n",
            "---  ------                    --------------  -----  \n",
            " 0   ClientPeriod              5282 non-null   int64  \n",
            " 1   MonthlySpending           5282 non-null   float64\n",
            " 2   TotalSpent                5282 non-null   object \n",
            " 3   Sex                       5282 non-null   object \n",
            " 4   IsSeniorCitizen           5282 non-null   int64  \n",
            " 5   HasPartner                5282 non-null   object \n",
            " 6   HasChild                  5282 non-null   object \n",
            " 7   HasPhoneService           5282 non-null   object \n",
            " 8   HasMultiplePhoneNumbers   5282 non-null   object \n",
            " 9   HasInternetService        5282 non-null   object \n",
            " 10  HasOnlineSecurityService  5282 non-null   object \n",
            " 11  HasOnlineBackup           5282 non-null   object \n",
            " 12  HasDeviceProtection       5282 non-null   object \n",
            " 13  HasTechSupportAccess      5282 non-null   object \n",
            " 14  HasOnlineTV               5282 non-null   object \n",
            " 15  HasMovieSubscription      5282 non-null   object \n",
            " 16  HasContractPhone          5282 non-null   object \n",
            " 17  IsBillingPaperless        5282 non-null   object \n",
            " 18  PaymentMethod             5282 non-null   object \n",
            " 19  Churn                     5282 non-null   int64  \n",
            "dtypes: float64(1), int64(3), object(16)\n",
            "memory usage: 825.4+ KB\n"
          ]
        }
      ],
      "source": [
        " data.info()"
      ]
    },
    {
      "cell_type": "markdown",
      "id": "6b28fb3c",
      "metadata": {
        "id": "6b28fb3c",
        "papermill": {
          "duration": 0.017155,
          "end_time": "2022-10-15T20:30:40.609999",
          "exception": false,
          "start_time": "2022-10-15T20:30:40.592844",
          "status": "completed"
        },
        "tags": []
      },
      "source": [
        "Как видно, в данных нет nan'ов. Но числовой признак `TotalSpent` почему-то имеет тип `object`. Посмотрим, какие значения хранятся в `TotalSpent`"
      ]
    },
    {
      "cell_type": "code",
      "execution_count": null,
      "id": "308a6bd9",
      "metadata": {
        "execution": {
          "iopub.execute_input": "2022-10-15T20:30:40.644984Z",
          "iopub.status.busy": "2022-10-15T20:30:40.644289Z",
          "iopub.status.idle": "2022-10-15T20:30:40.664671Z",
          "shell.execute_reply": "2022-10-15T20:30:40.663346Z"
        },
        "papermill": {
          "duration": 0.04068,
          "end_time": "2022-10-15T20:30:40.667161",
          "exception": false,
          "start_time": "2022-10-15T20:30:40.626481",
          "status": "completed"
        },
        "tags": [],
        "id": "308a6bd9",
        "outputId": "f45e1b10-4374-4562-d236-aae294a6f62b"
      },
      "outputs": [
        {
          "data": {
            "text/plain": [
              "          9\n",
              "100.2     1\n",
              "100.25    1\n",
              "100.35    1\n",
              "100.4     1\n",
              "Name: TotalSpent, dtype: int64"
            ]
          },
          "execution_count": 8,
          "metadata": {},
          "output_type": "execute_result"
        }
      ],
      "source": [
        "data_TotalSpent = data.TotalSpent.value_counts().sort_index()\n",
        "data_TotalSpent.head()"
      ]
    },
    {
      "cell_type": "markdown",
      "id": "ecbd76cb",
      "metadata": {
        "papermill": {
          "duration": 0.015697,
          "end_time": "2022-10-15T20:30:40.698963",
          "exception": false,
          "start_time": "2022-10-15T20:30:40.683266",
          "status": "completed"
        },
        "tags": [],
        "id": "ecbd76cb"
      },
      "source": [
        "Видим, что в первой строчке отсортированной серии индексом является строка (видимо, с табуляциями/пробелами). Посмотрим, что это за строка"
      ]
    },
    {
      "cell_type": "code",
      "execution_count": null,
      "id": "6561c556",
      "metadata": {
        "execution": {
          "iopub.execute_input": "2022-10-15T20:30:40.734078Z",
          "iopub.status.busy": "2022-10-15T20:30:40.733672Z",
          "iopub.status.idle": "2022-10-15T20:30:40.740905Z",
          "shell.execute_reply": "2022-10-15T20:30:40.739931Z"
        },
        "papermill": {
          "duration": 0.028175,
          "end_time": "2022-10-15T20:30:40.743253",
          "exception": false,
          "start_time": "2022-10-15T20:30:40.715078",
          "status": "completed"
        },
        "tags": [],
        "id": "6561c556",
        "outputId": "6186c9f6-de15-4066-a24e-994f532ee2e8"
      },
      "outputs": [
        {
          "data": {
            "text/plain": [
              "' '"
            ]
          },
          "execution_count": 9,
          "metadata": {},
          "output_type": "execute_result"
        }
      ],
      "source": [
        "data_TotalSpent.index[0]"
      ]
    },
    {
      "cell_type": "markdown",
      "id": "8af6c2d7",
      "metadata": {
        "papermill": {
          "duration": 0.016636,
          "end_time": "2022-10-15T20:30:40.776099",
          "exception": false,
          "start_time": "2022-10-15T20:30:40.759463",
          "status": "completed"
        },
        "tags": [],
        "id": "8af6c2d7"
      },
      "source": [
        "Получили строку, содержащую пробел. Заменим этот пробел на среднее значение `TotalSpent`, чтобы избавиться от этого пропуска в дынных"
      ]
    },
    {
      "cell_type": "code",
      "execution_count": null,
      "id": "4d7f5c09",
      "metadata": {
        "execution": {
          "iopub.execute_input": "2022-10-15T20:30:40.810262Z",
          "iopub.status.busy": "2022-10-15T20:30:40.809876Z",
          "iopub.status.idle": "2022-10-15T20:30:40.824906Z",
          "shell.execute_reply": "2022-10-15T20:30:40.823978Z"
        },
        "papermill": {
          "duration": 0.03489,
          "end_time": "2022-10-15T20:30:40.827271",
          "exception": false,
          "start_time": "2022-10-15T20:30:40.792381",
          "status": "completed"
        },
        "tags": [],
        "id": "4d7f5c09"
      },
      "outputs": [],
      "source": [
        "mean_TotalSpent = data[~(data['TotalSpent'] == ' ')]['TotalSpent'].astype(float).mean()\n",
        "data.loc[data[(data['TotalSpent'] == ' ')].index, 'TotalSpent'] = mean_TotalSpent\n",
        "data['TotalSpent'] = data['TotalSpent'].astype(float)"
      ]
    },
    {
      "cell_type": "code",
      "execution_count": null,
      "id": "42b37fb7",
      "metadata": {
        "execution": {
          "iopub.execute_input": "2022-10-15T20:30:40.862614Z",
          "iopub.status.busy": "2022-10-15T20:30:40.861282Z",
          "iopub.status.idle": "2022-10-15T20:30:40.881249Z",
          "shell.execute_reply": "2022-10-15T20:30:40.879484Z"
        },
        "papermill": {
          "duration": 0.040438,
          "end_time": "2022-10-15T20:30:40.883831",
          "exception": false,
          "start_time": "2022-10-15T20:30:40.843393",
          "status": "completed"
        },
        "tags": [],
        "id": "42b37fb7",
        "outputId": "80330b2a-b09b-4379-9787-50b346b46e35"
      },
      "outputs": [
        {
          "name": "stdout",
          "output_type": "stream",
          "text": [
            "<class 'pandas.core.frame.DataFrame'>\n",
            "RangeIndex: 5282 entries, 0 to 5281\n",
            "Data columns (total 20 columns):\n",
            " #   Column                    Non-Null Count  Dtype  \n",
            "---  ------                    --------------  -----  \n",
            " 0   ClientPeriod              5282 non-null   int64  \n",
            " 1   MonthlySpending           5282 non-null   float64\n",
            " 2   TotalSpent                5282 non-null   float64\n",
            " 3   Sex                       5282 non-null   object \n",
            " 4   IsSeniorCitizen           5282 non-null   int64  \n",
            " 5   HasPartner                5282 non-null   object \n",
            " 6   HasChild                  5282 non-null   object \n",
            " 7   HasPhoneService           5282 non-null   object \n",
            " 8   HasMultiplePhoneNumbers   5282 non-null   object \n",
            " 9   HasInternetService        5282 non-null   object \n",
            " 10  HasOnlineSecurityService  5282 non-null   object \n",
            " 11  HasOnlineBackup           5282 non-null   object \n",
            " 12  HasDeviceProtection       5282 non-null   object \n",
            " 13  HasTechSupportAccess      5282 non-null   object \n",
            " 14  HasOnlineTV               5282 non-null   object \n",
            " 15  HasMovieSubscription      5282 non-null   object \n",
            " 16  HasContractPhone          5282 non-null   object \n",
            " 17  IsBillingPaperless        5282 non-null   object \n",
            " 18  PaymentMethod             5282 non-null   object \n",
            " 19  Churn                     5282 non-null   int64  \n",
            "dtypes: float64(2), int64(3), object(15)\n",
            "memory usage: 825.4+ KB\n"
          ]
        }
      ],
      "source": [
        "data.info()"
      ]
    },
    {
      "cell_type": "markdown",
      "id": "6ec963f3",
      "metadata": {
        "papermill": {
          "duration": 0.016628,
          "end_time": "2022-10-15T20:30:40.917651",
          "exception": false,
          "start_time": "2022-10-15T20:30:40.901023",
          "status": "completed"
        },
        "tags": [],
        "id": "6ec963f3"
      },
      "source": [
        "Как видим, теперь тип данных для `TotalSpent` это `float`. Мы избавились от пропусков в данных, заменив их средним и преобразовали тип (из строкового в число с плавающей точкой), чтобы далее не возникло проблем с построением графиков."
      ]
    },
    {
      "cell_type": "markdown",
      "id": "ad2d397e",
      "metadata": {
        "papermill": {
          "duration": 0.016178,
          "end_time": "2022-10-15T20:30:40.950160",
          "exception": false,
          "start_time": "2022-10-15T20:30:40.933982",
          "status": "completed"
        },
        "tags": [],
        "id": "ad2d397e"
      },
      "source": [
        "Посмотрим уникальные значения категориальных признаков."
      ]
    },
    {
      "cell_type": "code",
      "execution_count": null,
      "id": "042b13e0",
      "metadata": {
        "execution": {
          "iopub.execute_input": "2022-10-15T20:30:40.986332Z",
          "iopub.status.busy": "2022-10-15T20:30:40.985345Z",
          "iopub.status.idle": "2022-10-15T20:30:41.006228Z",
          "shell.execute_reply": "2022-10-15T20:30:41.004939Z"
        },
        "papermill": {
          "duration": 0.041643,
          "end_time": "2022-10-15T20:30:41.009040",
          "exception": false,
          "start_time": "2022-10-15T20:30:40.967397",
          "status": "completed"
        },
        "tags": [],
        "id": "042b13e0",
        "outputId": "78c4b3d8-d3ba-43e9-ba41-e643901af5cc"
      },
      "outputs": [
        {
          "data": {
            "text/plain": [
              "{'Sex': ['Female', 'Male'],\n",
              " 'IsSeniorCitizen': [0, 1],\n",
              " 'HasPartner': ['No', 'Yes'],\n",
              " 'HasChild': ['No', 'Yes'],\n",
              " 'HasPhoneService': ['No', 'Yes'],\n",
              " 'HasMultiplePhoneNumbers': ['No', 'Yes', 'No phone service'],\n",
              " 'HasInternetService': ['No', 'DSL', 'Fiber optic'],\n",
              " 'HasOnlineSecurityService': ['No', 'No internet service', 'Yes'],\n",
              " 'HasOnlineBackup': ['No', 'No internet service', 'Yes'],\n",
              " 'HasDeviceProtection': ['No', 'No internet service', 'Yes'],\n",
              " 'HasTechSupportAccess': ['No', 'No internet service', 'Yes'],\n",
              " 'HasOnlineTV': ['No', 'No internet service', 'Yes'],\n",
              " 'HasMovieSubscription': ['No', 'No internet service', 'Yes'],\n",
              " 'HasContractPhone': ['One year', 'Month-to-month', 'Two year'],\n",
              " 'IsBillingPaperless': ['No', 'Yes'],\n",
              " 'PaymentMethod': ['Credit card (automatic)',\n",
              "  'Bank transfer (automatic)',\n",
              "  'Electronic check',\n",
              "  'Mailed check']}"
            ]
          },
          "execution_count": 12,
          "metadata": {},
          "output_type": "execute_result"
        }
      ],
      "source": [
        "d = {}\n",
        "for col in data[cat_cols].columns:\n",
        "    d[col] = list(set(data[col]))\n",
        "d"
      ]
    },
    {
      "cell_type": "markdown",
      "id": "4b4fc5f1",
      "metadata": {
        "papermill": {
          "duration": 0.016154,
          "end_time": "2022-10-15T20:30:41.042358",
          "exception": false,
          "start_time": "2022-10-15T20:30:41.026204",
          "status": "completed"
        },
        "tags": [],
        "id": "4b4fc5f1"
      },
      "source": [
        "В категориальных признаках пропусков нет"
      ]
    },
    {
      "cell_type": "markdown",
      "id": "25cc0f67",
      "metadata": {
        "id": "25cc0f67",
        "papermill": {
          "duration": 0.017226,
          "end_time": "2022-10-15T20:30:41.076218",
          "exception": false,
          "start_time": "2022-10-15T20:30:41.058992",
          "status": "completed"
        },
        "tags": []
      },
      "source": [
        "## Анализ данных (3 балла)\n",
        "\n",
        "1) Для численных призанков постройте гистограмму (*plt.hist(...)*) или boxplot (*plt.boxplot(...)*). Для категориальных посчитайте количество каждого значения для каждого признака. Для каждой колонки надо сделать *data.value_counts()* и построить bar диаграммы *plt.bar(...)* или круговые диаграммы *plt.pie(...)* (хорошо, елси вы сможете это сделать на одном гарфике с помощью *plt.subplots(...)*). \n",
        "\n",
        "2) Посмотрите на распределение целевой переменной и скажите, являются ли классы несбалансированными.\n",
        "\n",
        "3) (Если будет желание) Поиграйте с разными библиотеками для визуализации - *sns*, *pandas_visual_analysis*, etc.\n",
        "\n",
        "Второй пункт очень важен, потому что существуют задачи классификации с несбалансированными классами. Например, это может значить, что в датасете намного больше примеров 0 класса. В таких случаях нужно 1) не использовать accuracy как метрику 2) использовать методы борьбы с imbalanced dataset (обычно если датасет сильно несбалансирован, т.е. класса 1 в 20 раз меньше класса 0)."
      ]
    },
    {
      "cell_type": "markdown",
      "id": "41a70161",
      "metadata": {
        "id": "41a70161",
        "papermill": {
          "duration": 0.017722,
          "end_time": "2022-10-15T20:30:41.110834",
          "exception": false,
          "start_time": "2022-10-15T20:30:41.093112",
          "status": "completed"
        },
        "tags": []
      },
      "source": [
        "Выделим отдельно числовые признаки"
      ]
    },
    {
      "cell_type": "code",
      "execution_count": null,
      "id": "9d0d9926",
      "metadata": {
        "execution": {
          "iopub.execute_input": "2022-10-15T20:30:41.146230Z",
          "iopub.status.busy": "2022-10-15T20:30:41.145836Z",
          "iopub.status.idle": "2022-10-15T20:30:41.159384Z",
          "shell.execute_reply": "2022-10-15T20:30:41.158065Z"
        },
        "id": "9d0d9926",
        "outputId": "21c34803-0d48-487d-c879-7e78517a93f0",
        "papermill": {
          "duration": 0.034412,
          "end_time": "2022-10-15T20:30:41.161930",
          "exception": false,
          "start_time": "2022-10-15T20:30:41.127518",
          "status": "completed"
        },
        "tags": []
      },
      "outputs": [
        {
          "data": {
            "text/html": [
              "<div>\n",
              "<style scoped>\n",
              "    .dataframe tbody tr th:only-of-type {\n",
              "        vertical-align: middle;\n",
              "    }\n",
              "\n",
              "    .dataframe tbody tr th {\n",
              "        vertical-align: top;\n",
              "    }\n",
              "\n",
              "    .dataframe thead th {\n",
              "        text-align: right;\n",
              "    }\n",
              "</style>\n",
              "<table border=\"1\" class=\"dataframe\">\n",
              "  <thead>\n",
              "    <tr style=\"text-align: right;\">\n",
              "      <th></th>\n",
              "      <th>ClientPeriod</th>\n",
              "      <th>MonthlySpending</th>\n",
              "      <th>TotalSpent</th>\n",
              "    </tr>\n",
              "  </thead>\n",
              "  <tbody>\n",
              "    <tr>\n",
              "      <th>0</th>\n",
              "      <td>55</td>\n",
              "      <td>19.50</td>\n",
              "      <td>1026.35</td>\n",
              "    </tr>\n",
              "    <tr>\n",
              "      <th>1</th>\n",
              "      <td>72</td>\n",
              "      <td>25.85</td>\n",
              "      <td>1872.20</td>\n",
              "    </tr>\n",
              "    <tr>\n",
              "      <th>2</th>\n",
              "      <td>1</td>\n",
              "      <td>75.90</td>\n",
              "      <td>75.90</td>\n",
              "    </tr>\n",
              "    <tr>\n",
              "      <th>3</th>\n",
              "      <td>32</td>\n",
              "      <td>79.30</td>\n",
              "      <td>2570.00</td>\n",
              "    </tr>\n",
              "    <tr>\n",
              "      <th>4</th>\n",
              "      <td>60</td>\n",
              "      <td>115.25</td>\n",
              "      <td>6758.45</td>\n",
              "    </tr>\n",
              "  </tbody>\n",
              "</table>\n",
              "</div>"
            ],
            "text/plain": [
              "   ClientPeriod  MonthlySpending  TotalSpent\n",
              "0            55            19.50     1026.35\n",
              "1            72            25.85     1872.20\n",
              "2             1            75.90       75.90\n",
              "3            32            79.30     2570.00\n",
              "4            60           115.25     6758.45"
            ]
          },
          "execution_count": 13,
          "metadata": {},
          "output_type": "execute_result"
        }
      ],
      "source": [
        "data_num = data[num_cols]\n",
        "data_num.head()"
      ]
    },
    {
      "cell_type": "code",
      "execution_count": null,
      "id": "84ea693e",
      "metadata": {
        "execution": {
          "iopub.execute_input": "2022-10-15T20:30:41.198004Z",
          "iopub.status.busy": "2022-10-15T20:30:41.197621Z",
          "iopub.status.idle": "2022-10-15T20:30:41.404758Z",
          "shell.execute_reply": "2022-10-15T20:30:41.403212Z"
        },
        "id": "84ea693e",
        "papermill": {
          "duration": 0.228582,
          "end_time": "2022-10-15T20:30:41.407798",
          "exception": false,
          "start_time": "2022-10-15T20:30:41.179216",
          "status": "completed"
        },
        "tags": []
      },
      "outputs": [],
      "source": [
        "import seaborn as sns\n",
        "\n",
        "sns.set_theme()"
      ]
    },
    {
      "cell_type": "code",
      "execution_count": null,
      "id": "eb83bc82",
      "metadata": {
        "execution": {
          "iopub.execute_input": "2022-10-15T20:30:41.447052Z",
          "iopub.status.busy": "2022-10-15T20:30:41.446337Z",
          "iopub.status.idle": "2022-10-15T20:30:41.455735Z",
          "shell.execute_reply": "2022-10-15T20:30:41.454219Z"
        },
        "papermill": {
          "duration": 0.032062,
          "end_time": "2022-10-15T20:30:41.458679",
          "exception": false,
          "start_time": "2022-10-15T20:30:41.426617",
          "status": "completed"
        },
        "tags": [],
        "id": "eb83bc82"
      },
      "outputs": [],
      "source": [
        "# функция для отрисовки графиков\n",
        "def show(graphic):\n",
        "    fig, ax = plt.subplots(nrows=1, ncols=3, figsize=(15, 4))\n",
        "    for col, row in zip(data_num.columns, ax):\n",
        "        row.set_title(col)\n",
        "        if graphic == 'hist':\n",
        "            row.hist(data_num[col])\n",
        "        elif graphic == 'boxplot':\n",
        "            row.boxplot(data_num[col])"
      ]
    },
    {
      "cell_type": "markdown",
      "id": "fb110659",
      "metadata": {
        "papermill": {
          "duration": 0.016731,
          "end_time": "2022-10-15T20:30:41.493109",
          "exception": false,
          "start_time": "2022-10-15T20:30:41.476378",
          "status": "completed"
        },
        "tags": [],
        "id": "fb110659"
      },
      "source": [
        "Построим гистограммы"
      ]
    },
    {
      "cell_type": "code",
      "execution_count": null,
      "id": "58960d65",
      "metadata": {
        "execution": {
          "iopub.execute_input": "2022-10-15T20:30:41.530646Z",
          "iopub.status.busy": "2022-10-15T20:30:41.530208Z",
          "iopub.status.idle": "2022-10-15T20:30:42.188449Z",
          "shell.execute_reply": "2022-10-15T20:30:42.187565Z"
        },
        "id": "58960d65",
        "outputId": "2a35b14e-8603-4b99-b16c-9b999ba2cc0a",
        "papermill": {
          "duration": 0.679099,
          "end_time": "2022-10-15T20:30:42.190649",
          "exception": false,
          "start_time": "2022-10-15T20:30:41.511550",
          "status": "completed"
        },
        "tags": []
      },
      "outputs": [
        {
          "data": {
            "image/png": "[encoded data removed]",
            "text/plain": [
              "<Figure size 1080x288 with 3 Axes>"
            ]
          },
          "metadata": {},
          "output_type": "display_data"
        }
      ],
      "source": [
        "show('hist')"
      ]
    },
    {
      "cell_type": "markdown",
      "id": "2df32c19",
      "metadata": {
        "papermill": {
          "duration": 0.01801,
          "end_time": "2022-10-15T20:30:42.227192",
          "exception": false,
          "start_time": "2022-10-15T20:30:42.209182",
          "status": "completed"
        },
        "tags": [],
        "id": "2df32c19"
      },
      "source": [
        "Возможно, для TotalSpent лучше воспользоваться `RobustScaler`"
      ]
    },
    {
      "cell_type": "markdown",
      "id": "639d1726",
      "metadata": {
        "papermill": {
          "duration": 0.016881,
          "end_time": "2022-10-15T20:30:42.261447",
          "exception": false,
          "start_time": "2022-10-15T20:30:42.244566",
          "status": "completed"
        },
        "tags": [],
        "id": "639d1726"
      },
      "source": [
        "Построим ящики с усами"
      ]
    },
    {
      "cell_type": "code",
      "execution_count": null,
      "id": "ce070439",
      "metadata": {
        "execution": {
          "iopub.execute_input": "2022-10-15T20:30:42.298153Z",
          "iopub.status.busy": "2022-10-15T20:30:42.297211Z",
          "iopub.status.idle": "2022-10-15T20:30:42.660540Z",
          "shell.execute_reply": "2022-10-15T20:30:42.659127Z"
        },
        "papermill": {
          "duration": 0.385128,
          "end_time": "2022-10-15T20:30:42.663798",
          "exception": false,
          "start_time": "2022-10-15T20:30:42.278670",
          "status": "completed"
        },
        "tags": [],
        "id": "ce070439",
        "outputId": "15f62c9e-2732-479e-9ba0-64cbf41b0834"
      },
      "outputs": [
        {
          "data": {
            "image/png": "[encoded data removed]",
            "text/plain": [
              "<Figure size 1080x288 with 3 Axes>"
            ]
          },
          "metadata": {},
          "output_type": "display_data"
        }
      ],
      "source": [
        "show('boxplot')"
      ]
    },
    {
      "cell_type": "code",
      "execution_count": null,
      "id": "328a31e1",
      "metadata": {
        "execution": {
          "iopub.execute_input": "2022-10-15T20:30:42.703384Z",
          "iopub.status.busy": "2022-10-15T20:30:42.702209Z",
          "iopub.status.idle": "2022-10-15T20:30:42.708317Z",
          "shell.execute_reply": "2022-10-15T20:30:42.707327Z"
        },
        "papermill": {
          "duration": 0.028356,
          "end_time": "2022-10-15T20:30:42.710846",
          "exception": false,
          "start_time": "2022-10-15T20:30:42.682490",
          "status": "completed"
        },
        "tags": [],
        "id": "328a31e1"
      },
      "outputs": [],
      "source": [
        "import warnings\n",
        "warnings.simplefilter(action='ignore', category=UserWarning)"
      ]
    },
    {
      "cell_type": "markdown",
      "id": "0cf7dec3",
      "metadata": {
        "papermill": {
          "duration": 0.018391,
          "end_time": "2022-10-15T20:30:42.747976",
          "exception": false,
          "start_time": "2022-10-15T20:30:42.729585",
          "status": "completed"
        },
        "tags": [],
        "id": "0cf7dec3"
      },
      "source": [
        "Выделим категориальные признаки"
      ]
    },
    {
      "cell_type": "code",
      "execution_count": null,
      "id": "0b04440e",
      "metadata": {
        "execution": {
          "iopub.execute_input": "2022-10-15T20:30:42.786476Z",
          "iopub.status.busy": "2022-10-15T20:30:42.785705Z",
          "iopub.status.idle": "2022-10-15T20:30:42.807470Z",
          "shell.execute_reply": "2022-10-15T20:30:42.806299Z"
        },
        "papermill": {
          "duration": 0.04402,
          "end_time": "2022-10-15T20:30:42.809992",
          "exception": false,
          "start_time": "2022-10-15T20:30:42.765972",
          "status": "completed"
        },
        "tags": [],
        "id": "0b04440e",
        "outputId": "beed1790-2b79-49e0-8a88-5ea184248c50"
      },
      "outputs": [
        {
          "data": {
            "text/html": [
              "<div>\n",
              "<style scoped>\n",
              "    .dataframe tbody tr th:only-of-type {\n",
              "        vertical-align: middle;\n",
              "    }\n",
              "\n",
              "    .dataframe tbody tr th {\n",
              "        vertical-align: top;\n",
              "    }\n",
              "\n",
              "    .dataframe thead th {\n",
              "        text-align: right;\n",
              "    }\n",
              "</style>\n",
              "<table border=\"1\" class=\"dataframe\">\n",
              "  <thead>\n",
              "    <tr style=\"text-align: right;\">\n",
              "      <th></th>\n",
              "      <th>Sex</th>\n",
              "      <th>IsSeniorCitizen</th>\n",
              "      <th>HasPartner</th>\n",
              "      <th>HasChild</th>\n",
              "      <th>HasPhoneService</th>\n",
              "      <th>HasMultiplePhoneNumbers</th>\n",
              "      <th>HasInternetService</th>\n",
              "      <th>HasOnlineSecurityService</th>\n",
              "      <th>HasOnlineBackup</th>\n",
              "      <th>HasDeviceProtection</th>\n",
              "      <th>HasTechSupportAccess</th>\n",
              "      <th>HasOnlineTV</th>\n",
              "      <th>HasMovieSubscription</th>\n",
              "      <th>HasContractPhone</th>\n",
              "      <th>IsBillingPaperless</th>\n",
              "      <th>PaymentMethod</th>\n",
              "    </tr>\n",
              "  </thead>\n",
              "  <tbody>\n",
              "    <tr>\n",
              "      <th>0</th>\n",
              "      <td>Male</td>\n",
              "      <td>0</td>\n",
              "      <td>Yes</td>\n",
              "      <td>Yes</td>\n",
              "      <td>Yes</td>\n",
              "      <td>No</td>\n",
              "      <td>No</td>\n",
              "      <td>No internet service</td>\n",
              "      <td>No internet service</td>\n",
              "      <td>No internet service</td>\n",
              "      <td>No internet service</td>\n",
              "      <td>No internet service</td>\n",
              "      <td>No internet service</td>\n",
              "      <td>One year</td>\n",
              "      <td>No</td>\n",
              "      <td>Mailed check</td>\n",
              "    </tr>\n",
              "    <tr>\n",
              "      <th>1</th>\n",
              "      <td>Male</td>\n",
              "      <td>0</td>\n",
              "      <td>Yes</td>\n",
              "      <td>No</td>\n",
              "      <td>Yes</td>\n",
              "      <td>Yes</td>\n",
              "      <td>No</td>\n",
              "      <td>No internet service</td>\n",
              "      <td>No internet service</td>\n",
              "      <td>No internet service</td>\n",
              "      <td>No internet service</td>\n",
              "      <td>No internet service</td>\n",
              "      <td>No internet service</td>\n",
              "      <td>Two year</td>\n",
              "      <td>No</td>\n",
              "      <td>Credit card (automatic)</td>\n",
              "    </tr>\n",
              "    <tr>\n",
              "      <th>2</th>\n",
              "      <td>Male</td>\n",
              "      <td>0</td>\n",
              "      <td>No</td>\n",
              "      <td>No</td>\n",
              "      <td>Yes</td>\n",
              "      <td>No</td>\n",
              "      <td>Fiber optic</td>\n",
              "      <td>No</td>\n",
              "      <td>No</td>\n",
              "      <td>No</td>\n",
              "      <td>Yes</td>\n",
              "      <td>No</td>\n",
              "      <td>No</td>\n",
              "      <td>Month-to-month</td>\n",
              "      <td>Yes</td>\n",
              "      <td>Electronic check</td>\n",
              "    </tr>\n",
              "    <tr>\n",
              "      <th>3</th>\n",
              "      <td>Female</td>\n",
              "      <td>1</td>\n",
              "      <td>Yes</td>\n",
              "      <td>No</td>\n",
              "      <td>Yes</td>\n",
              "      <td>Yes</td>\n",
              "      <td>Fiber optic</td>\n",
              "      <td>No</td>\n",
              "      <td>No</td>\n",
              "      <td>Yes</td>\n",
              "      <td>No</td>\n",
              "      <td>No</td>\n",
              "      <td>No</td>\n",
              "      <td>Month-to-month</td>\n",
              "      <td>No</td>\n",
              "      <td>Mailed check</td>\n",
              "    </tr>\n",
              "    <tr>\n",
              "      <th>4</th>\n",
              "      <td>Female</td>\n",
              "      <td>0</td>\n",
              "      <td>Yes</td>\n",
              "      <td>Yes</td>\n",
              "      <td>Yes</td>\n",
              "      <td>Yes</td>\n",
              "      <td>Fiber optic</td>\n",
              "      <td>Yes</td>\n",
              "      <td>Yes</td>\n",
              "      <td>Yes</td>\n",
              "      <td>Yes</td>\n",
              "      <td>Yes</td>\n",
              "      <td>Yes</td>\n",
              "      <td>Two year</td>\n",
              "      <td>No</td>\n",
              "      <td>Credit card (automatic)</td>\n",
              "    </tr>\n",
              "  </tbody>\n",
              "</table>\n",
              "</div>"
            ],
            "text/plain": [
              "      Sex  IsSeniorCitizen HasPartner HasChild HasPhoneService  \\\n",
              "0    Male                0        Yes      Yes             Yes   \n",
              "1    Male                0        Yes       No             Yes   \n",
              "2    Male                0         No       No             Yes   \n",
              "3  Female                1        Yes       No             Yes   \n",
              "4  Female                0        Yes      Yes             Yes   \n",
              "\n",
              "  HasMultiplePhoneNumbers HasInternetService HasOnlineSecurityService  \\\n",
              "0                      No                 No      No internet service   \n",
              "1                     Yes                 No      No internet service   \n",
              "2                      No        Fiber optic                       No   \n",
              "3                     Yes        Fiber optic                       No   \n",
              "4                     Yes        Fiber optic                      Yes   \n",
              "\n",
              "       HasOnlineBackup  HasDeviceProtection HasTechSupportAccess  \\\n",
              "0  No internet service  No internet service  No internet service   \n",
              "1  No internet service  No internet service  No internet service   \n",
              "2                   No                   No                  Yes   \n",
              "3                   No                  Yes                   No   \n",
              "4                  Yes                  Yes                  Yes   \n",
              "\n",
              "           HasOnlineTV HasMovieSubscription HasContractPhone  \\\n",
              "0  No internet service  No internet service         One year   \n",
              "1  No internet service  No internet service         Two year   \n",
              "2                   No                   No   Month-to-month   \n",
              "3                   No                   No   Month-to-month   \n",
              "4                  Yes                  Yes         Two year   \n",
              "\n",
              "  IsBillingPaperless            PaymentMethod  \n",
              "0                 No             Mailed check  \n",
              "1                 No  Credit card (automatic)  \n",
              "2                Yes         Electronic check  \n",
              "3                 No             Mailed check  \n",
              "4                 No  Credit card (automatic)  "
            ]
          },
          "execution_count": 19,
          "metadata": {},
          "output_type": "execute_result"
        }
      ],
      "source": [
        "data_cat = data[cat_cols]\n",
        "data_cat.head()"
      ]
    },
    {
      "cell_type": "code",
      "execution_count": null,
      "id": "9ac1cdfe",
      "metadata": {
        "execution": {
          "iopub.execute_input": "2022-10-15T20:30:42.850683Z",
          "iopub.status.busy": "2022-10-15T20:30:42.849908Z",
          "iopub.status.idle": "2022-10-15T20:30:42.858680Z",
          "shell.execute_reply": "2022-10-15T20:30:42.857711Z"
        },
        "papermill": {
          "duration": 0.032574,
          "end_time": "2022-10-15T20:30:42.861502",
          "exception": false,
          "start_time": "2022-10-15T20:30:42.828928",
          "status": "completed"
        },
        "tags": [],
        "id": "9ac1cdfe"
      },
      "outputs": [],
      "source": [
        "# функция для отрисовки графиков\n",
        "def show_cat(graphic):\n",
        "    columns = np.array(data_cat.columns).reshape(4, 4)\n",
        "    fig, ax = plt.subplots(nrows=4, ncols=4, figsize=(25, 25))\n",
        "    for names, row in zip(columns, ax):\n",
        "        for name, col in zip(names, row):\n",
        "            x = data_cat[name].value_counts().index\n",
        "            y = data_cat[name].value_counts()\n",
        "            if graphic == 'bar':\n",
        "                col.bar(x, y)\n",
        "                plt.xticks(rotation=-15)\n",
        "            elif graphic == 'pie':\n",
        "                col.pie(y, labels=x)\n",
        "            col.set_title(name)"
      ]
    },
    {
      "cell_type": "markdown",
      "id": "b5492e6b",
      "metadata": {
        "papermill": {
          "duration": 0.019024,
          "end_time": "2022-10-15T20:30:42.900334",
          "exception": false,
          "start_time": "2022-10-15T20:30:42.881310",
          "status": "completed"
        },
        "tags": [],
        "id": "b5492e6b"
      },
      "source": [
        "Построим круговые диаграммы"
      ]
    },
    {
      "cell_type": "code",
      "execution_count": null,
      "id": "fd1ca257",
      "metadata": {
        "execution": {
          "iopub.execute_input": "2022-10-15T20:30:42.939477Z",
          "iopub.status.busy": "2022-10-15T20:30:42.939061Z",
          "iopub.status.idle": "2022-10-15T20:30:44.316049Z",
          "shell.execute_reply": "2022-10-15T20:30:44.315025Z"
        },
        "papermill": {
          "duration": 1.402101,
          "end_time": "2022-10-15T20:30:44.321045",
          "exception": false,
          "start_time": "2022-10-15T20:30:42.918944",
          "status": "completed"
        },
        "tags": [],
        "id": "fd1ca257",
        "outputId": "777f47a5-ce87-4e5a-e25c-a22604a62761"
      },
      "outputs": [
        {
          "data": {
            "image/png": "[encoded data removed]",
            "text/plain": [
              "<Figure size 1800x1800 with 16 Axes>"
            ]
          },
          "metadata": {},
          "output_type": "display_data"
        }
      ],
      "source": [
        "show_cat('pie')"
      ]
    },
    {
      "cell_type": "markdown",
      "id": "450858f4",
      "metadata": {
        "papermill": {
          "duration": 0.022425,
          "end_time": "2022-10-15T20:30:44.367768",
          "exception": false,
          "start_time": "2022-10-15T20:30:44.345343",
          "status": "completed"
        },
        "tags": [],
        "id": "450858f4"
      },
      "source": [
        "Построим гистограммы"
      ]
    },
    {
      "cell_type": "code",
      "execution_count": null,
      "id": "3edcde43",
      "metadata": {
        "execution": {
          "iopub.execute_input": "2022-10-15T20:30:44.414495Z",
          "iopub.status.busy": "2022-10-15T20:30:44.414076Z",
          "iopub.status.idle": "2022-10-15T20:30:46.830869Z",
          "shell.execute_reply": "2022-10-15T20:30:46.829756Z"
        },
        "papermill": {
          "duration": 2.44537,
          "end_time": "2022-10-15T20:30:46.835493",
          "exception": false,
          "start_time": "2022-10-15T20:30:44.390123",
          "status": "completed"
        },
        "tags": [],
        "id": "3edcde43",
        "outputId": "3039eb2f-1e1a-4f9e-dca5-4bfcd3db372a"
      },
      "outputs": [
        {
          "data": {
            "image/png": "[encoded data removed]",
            "text/plain": [
              "<Figure size 1800x1800 with 16 Axes>"
            ]
          },
          "metadata": {},
          "output_type": "display_data"
        }
      ],
      "source": [
        "show_cat('bar')"
      ]
    },
    {
      "cell_type": "markdown",
      "id": "1bf7d6f6",
      "metadata": {
        "papermill": {
          "duration": 0.02668,
          "end_time": "2022-10-15T20:30:46.894649",
          "exception": false,
          "start_time": "2022-10-15T20:30:46.867969",
          "status": "completed"
        },
        "tags": [],
        "id": "1bf7d6f6"
      },
      "source": [
        "Распределение целевой переменной"
      ]
    },
    {
      "cell_type": "code",
      "execution_count": null,
      "id": "1401a4d5",
      "metadata": {
        "execution": {
          "iopub.execute_input": "2022-10-15T20:30:46.945299Z",
          "iopub.status.busy": "2022-10-15T20:30:46.944887Z",
          "iopub.status.idle": "2022-10-15T20:30:47.020635Z",
          "shell.execute_reply": "2022-10-15T20:30:47.019502Z"
        },
        "papermill": {
          "duration": 0.104348,
          "end_time": "2022-10-15T20:30:47.023160",
          "exception": false,
          "start_time": "2022-10-15T20:30:46.918812",
          "status": "completed"
        },
        "tags": [],
        "id": "1401a4d5",
        "outputId": "b9eda2f1-6c8f-4620-9ca6-82120aedf9ca"
      },
      "outputs": [
        {
          "data": {
            "image/png": "[encoded data removed]",
            "text/plain": [
              "<Figure size 432x288 with 1 Axes>"
            ]
          },
          "metadata": {},
          "output_type": "display_data"
        }
      ],
      "source": [
        "plt.pie(data[target_col].value_counts(), labels=data[target_col].value_counts().index)\n",
        "plt.show()"
      ]
    },
    {
      "cell_type": "markdown",
      "id": "341f5f75",
      "metadata": {
        "papermill": {
          "duration": 0.024737,
          "end_time": "2022-10-15T20:30:47.073470",
          "exception": false,
          "start_time": "2022-10-15T20:30:47.048733",
          "status": "completed"
        },
        "tags": [],
        "id": "341f5f75"
      },
      "source": [
        "Выраженного дисбаланса классов нет"
      ]
    },
    {
      "cell_type": "markdown",
      "id": "e88e31b2",
      "metadata": {
        "id": "e88e31b2",
        "papermill": {
          "duration": 0.025767,
          "end_time": "2022-10-15T20:30:47.123927",
          "exception": false,
          "start_time": "2022-10-15T20:30:47.098160",
          "status": "completed"
        },
        "tags": []
      },
      "source": [
        "(Дополнительно) Если вы нашли какие-то ошибки в данных или выбросы, то можете их убрать. Тут можно поэксперементировать с обработкой данных как угодно, но не за баллы."
      ]
    },
    {
      "cell_type": "markdown",
      "id": "56d57ea3",
      "metadata": {
        "papermill": {
          "duration": 0.024128,
          "end_time": "2022-10-15T20:30:47.173929",
          "exception": false,
          "start_time": "2022-10-15T20:30:47.149801",
          "status": "completed"
        },
        "tags": [],
        "id": "56d57ea3"
      },
      "source": [
        "Пстроим также корреляционную матрицу для числовых признаков, чтобы посмотреть, как они влияют на целевую переменную. Добавим к данным метки"
      ]
    },
    {
      "cell_type": "code",
      "execution_count": null,
      "id": "6898ca17",
      "metadata": {
        "execution": {
          "iopub.execute_input": "2022-10-15T20:30:47.227567Z",
          "iopub.status.busy": "2022-10-15T20:30:47.226927Z",
          "iopub.status.idle": "2022-10-15T20:30:47.233416Z",
          "shell.execute_reply": "2022-10-15T20:30:47.232610Z"
        },
        "papermill": {
          "duration": 0.036571,
          "end_time": "2022-10-15T20:30:47.235768",
          "exception": false,
          "start_time": "2022-10-15T20:30:47.199197",
          "status": "completed"
        },
        "tags": [],
        "id": "6898ca17"
      },
      "outputs": [],
      "source": [
        "data_num_target = pd.concat([data_num, data[['Churn']]], axis=1)"
      ]
    },
    {
      "cell_type": "markdown",
      "id": "e98684ab",
      "metadata": {
        "papermill": {
          "duration": 0.024125,
          "end_time": "2022-10-15T20:30:47.284457",
          "exception": false,
          "start_time": "2022-10-15T20:30:47.260332",
          "status": "completed"
        },
        "tags": [],
        "id": "e98684ab"
      },
      "source": [
        "Посмотрим на корреляцию"
      ]
    },
    {
      "cell_type": "code",
      "execution_count": null,
      "id": "479d8354",
      "metadata": {
        "execution": {
          "iopub.execute_input": "2022-10-15T20:30:47.336290Z",
          "iopub.status.busy": "2022-10-15T20:30:47.335528Z",
          "iopub.status.idle": "2022-10-15T20:30:47.415598Z",
          "shell.execute_reply": "2022-10-15T20:30:47.414295Z"
        },
        "papermill": {
          "duration": 0.108888,
          "end_time": "2022-10-15T20:30:47.418295",
          "exception": false,
          "start_time": "2022-10-15T20:30:47.309407",
          "status": "completed"
        },
        "tags": [],
        "id": "479d8354",
        "outputId": "7f06d06a-03bc-4dc2-ebca-b46bb320e1cf"
      },
      "outputs": [
        {
          "data": {
            "text/html": [
              "<style type=\"text/css\">\n",
              "#T_f6de9_row0_col0, #T_f6de9_row1_col1, #T_f6de9_row2_col2, #T_f6de9_row3_col3 {\n",
              "  background-color: #023858;\n",
              "  color: #f1f1f1;\n",
              "}\n",
              "#T_f6de9_row0_col1 {\n",
              "  background-color: #f3edf5;\n",
              "  color: #000000;\n",
              "}\n",
              "#T_f6de9_row0_col2 {\n",
              "  background-color: #045e93;\n",
              "  color: #f1f1f1;\n",
              "}\n",
              "#T_f6de9_row0_col3, #T_f6de9_row3_col0, #T_f6de9_row3_col1, #T_f6de9_row3_col2 {\n",
              "  background-color: #fff7fb;\n",
              "  color: #000000;\n",
              "}\n",
              "#T_f6de9_row1_col0 {\n",
              "  background-color: #8bb2d4;\n",
              "  color: #000000;\n",
              "}\n",
              "#T_f6de9_row1_col2 {\n",
              "  background-color: #157ab5;\n",
              "  color: #f1f1f1;\n",
              "}\n",
              "#T_f6de9_row1_col3 {\n",
              "  background-color: #9ebad9;\n",
              "  color: #000000;\n",
              "}\n",
              "#T_f6de9_row2_col0 {\n",
              "  background-color: #045b8e;\n",
              "  color: #f1f1f1;\n",
              "}\n",
              "#T_f6de9_row2_col1 {\n",
              "  background-color: #509ac6;\n",
              "  color: #f1f1f1;\n",
              "}\n",
              "#T_f6de9_row2_col3 {\n",
              "  background-color: #eee9f3;\n",
              "  color: #000000;\n",
              "}\n",
              "</style>\n",
              "<table id=\"T_f6de9_\">\n",
              "  <thead>\n",
              "    <tr>\n",
              "      <th class=\"blank level0\" >&nbsp;</th>\n",
              "      <th class=\"col_heading level0 col0\" >ClientPeriod</th>\n",
              "      <th class=\"col_heading level0 col1\" >MonthlySpending</th>\n",
              "      <th class=\"col_heading level0 col2\" >TotalSpent</th>\n",
              "      <th class=\"col_heading level0 col3\" >Churn</th>\n",
              "    </tr>\n",
              "  </thead>\n",
              "  <tbody>\n",
              "    <tr>\n",
              "      <th id=\"T_f6de9_level0_row0\" class=\"row_heading level0 row0\" >ClientPeriod</th>\n",
              "      <td id=\"T_f6de9_row0_col0\" class=\"data row0 col0\" >1.000000</td>\n",
              "      <td id=\"T_f6de9_row0_col1\" class=\"data row0 col1\" >0.249414</td>\n",
              "      <td id=\"T_f6de9_row0_col2\" class=\"data row0 col2\" >0.825103</td>\n",
              "      <td id=\"T_f6de9_row0_col3\" class=\"data row0 col3\" >-0.350640</td>\n",
              "    </tr>\n",
              "    <tr>\n",
              "      <th id=\"T_f6de9_level0_row1\" class=\"row_heading level0 row1\" >MonthlySpending</th>\n",
              "      <td id=\"T_f6de9_row1_col0\" class=\"data row1 col0\" >0.249414</td>\n",
              "      <td id=\"T_f6de9_row1_col1\" class=\"data row1 col1\" >1.000000</td>\n",
              "      <td id=\"T_f6de9_row1_col2\" class=\"data row1 col2\" >0.651510</td>\n",
              "      <td id=\"T_f6de9_row1_col3\" class=\"data row1 col3\" >0.184769</td>\n",
              "    </tr>\n",
              "    <tr>\n",
              "      <th id=\"T_f6de9_level0_row2\" class=\"row_heading level0 row2\" >TotalSpent</th>\n",
              "      <td id=\"T_f6de9_row2_col0\" class=\"data row2 col0\" >0.825103</td>\n",
              "      <td id=\"T_f6de9_row2_col1\" class=\"data row2 col1\" >0.651510</td>\n",
              "      <td id=\"T_f6de9_row2_col2\" class=\"data row2 col2\" >1.000000</td>\n",
              "      <td id=\"T_f6de9_row2_col3\" class=\"data row2 col3\" >-0.201233</td>\n",
              "    </tr>\n",
              "    <tr>\n",
              "      <th id=\"T_f6de9_level0_row3\" class=\"row_heading level0 row3\" >Churn</th>\n",
              "      <td id=\"T_f6de9_row3_col0\" class=\"data row3 col0\" >-0.350640</td>\n",
              "      <td id=\"T_f6de9_row3_col1\" class=\"data row3 col1\" >0.184769</td>\n",
              "      <td id=\"T_f6de9_row3_col2\" class=\"data row3 col2\" >-0.201233</td>\n",
              "      <td id=\"T_f6de9_row3_col3\" class=\"data row3 col3\" >1.000000</td>\n",
              "    </tr>\n",
              "  </tbody>\n",
              "</table>\n"
            ],
            "text/plain": [
              "<pandas.io.formats.style.Styler at 0x7f9b157be190>"
            ]
          },
          "execution_count": 25,
          "metadata": {},
          "output_type": "execute_result"
        }
      ],
      "source": [
        "corr = data_num_target.corr()\n",
        "corr.style.background_gradient()"
      ]
    },
    {
      "cell_type": "markdown",
      "id": "df7721ba",
      "metadata": {
        "papermill": {
          "duration": 0.025707,
          "end_time": "2022-10-15T20:30:47.469368",
          "exception": false,
          "start_time": "2022-10-15T20:30:47.443661",
          "status": "completed"
        },
        "tags": [],
        "id": "df7721ba"
      },
      "source": [
        "Как видим, `TotalSpent` и `ClientPeriod` сильно коррелируют между собой. Возможно, это пригодится при дальнейшем исследовании."
      ]
    },
    {
      "cell_type": "markdown",
      "id": "999cd6ea",
      "metadata": {
        "id": "999cd6ea",
        "papermill": {
          "duration": 0.025372,
          "end_time": "2022-10-15T20:30:47.520673",
          "exception": false,
          "start_time": "2022-10-15T20:30:47.495301",
          "status": "completed"
        },
        "tags": []
      },
      "source": [
        "## Применение линейных моделей (3 балла)\n",
        "\n",
        "1) Обработайте данные для того, чтобы к ним можно было применить LogisticRegression. Т.е. отнормируйте числовые признаки, а категориальные закодируйте с помощью one-hot-encoding'а. \n",
        "\n",
        "2) С помощью кроссвалидации или разделения на train/valid выборку протестируйте разные значения гиперпараметра C и выберите лучший (можно тестировать С=100, 10, 1, 0.1, 0.01, 0.001) по метрике ROC-AUC. \n",
        "\n",
        "Если вы разделяете на train/valid, то используйте LogisticRegressionCV. Он сам при вызове .fit() подберет параметр С. (не забудьте передать scroing='roc_auc', чтобы при кроссвалидации сравнивались значения этой метрики, и refit=True, чтобы при потом модель обучилась на всем датасете с лучшим параметром C). \n",
        "\n",
        "\n",
        "(более сложный вариант) Если вы будете использовать кроссвалидацию, то преобразования данных и LogisticRegression нужно соединить в один Pipeline с помощью make_pipeline, как это делалось во втором семинаре. Потом pipeline надо передать в GridSearchCV. Для one-hot-encoding'a можно испльзовать комбинацию LabelEncoder + OneHotEncoder (сначала превращаем строчки в числа, а потом числа првращаем в one-hot вектора.)"
      ]
    },
    {
      "cell_type": "code",
      "execution_count": null,
      "id": "56342bc8",
      "metadata": {
        "execution": {
          "iopub.execute_input": "2022-10-15T20:30:47.573751Z",
          "iopub.status.busy": "2022-10-15T20:30:47.573329Z",
          "iopub.status.idle": "2022-10-15T20:30:47.684136Z",
          "shell.execute_reply": "2022-10-15T20:30:47.683032Z"
        },
        "id": "56342bc8",
        "papermill": {
          "duration": 0.141206,
          "end_time": "2022-10-15T20:30:47.686873",
          "exception": false,
          "start_time": "2022-10-15T20:30:47.545667",
          "status": "completed"
        },
        "tags": []
      },
      "outputs": [],
      "source": [
        "from sklearn.linear_model import LogisticRegression, LogisticRegressionCV\n",
        "from sklearn.model_selection import train_test_split, GridSearchCV\n",
        "from sklearn.preprocessing import StandardScaler, RobustScaler, LabelEncoder, OneHotEncoder\n",
        "from sklearn.pipeline import make_pipeline\n",
        "from sklearn.compose import ColumnTransformer"
      ]
    },
    {
      "cell_type": "markdown",
      "id": "1a89ef6f",
      "metadata": {
        "papermill": {
          "duration": 0.024312,
          "end_time": "2022-10-15T20:30:47.736040",
          "exception": false,
          "start_time": "2022-10-15T20:30:47.711728",
          "status": "completed"
        },
        "tags": [],
        "id": "1a89ef6f"
      },
      "source": [
        "Попробуем вариант с разделением на train/valid "
      ]
    },
    {
      "cell_type": "markdown",
      "id": "c4cc92cf",
      "metadata": {
        "papermill": {
          "duration": 0.024329,
          "end_time": "2022-10-15T20:30:47.786889",
          "exception": false,
          "start_time": "2022-10-15T20:30:47.762560",
          "status": "completed"
        },
        "tags": [],
        "id": "c4cc92cf"
      },
      "source": [
        "Сначала предобработаем данные "
      ]
    },
    {
      "cell_type": "code",
      "execution_count": null,
      "id": "9c760705",
      "metadata": {
        "execution": {
          "iopub.execute_input": "2022-10-15T20:30:47.839317Z",
          "iopub.status.busy": "2022-10-15T20:30:47.838384Z",
          "iopub.status.idle": "2022-10-15T20:30:47.894638Z",
          "shell.execute_reply": "2022-10-15T20:30:47.893655Z"
        },
        "papermill": {
          "duration": 0.085663,
          "end_time": "2022-10-15T20:30:47.897288",
          "exception": false,
          "start_time": "2022-10-15T20:30:47.811625",
          "status": "completed"
        },
        "tags": [],
        "id": "9c760705"
      },
      "outputs": [],
      "source": [
        "# здесь идет преобразование категориальных признаков\n",
        "data_cat_le = data_cat.apply(LabelEncoder().fit_transform)\n",
        "encoder = OneHotEncoder()\n",
        "data_cat_ohe = encoder.fit_transform(data_cat_le)\n",
        "column_name = encoder.get_feature_names_out(data_cat.columns)\n",
        "one_hot_encoded_frame = pd.DataFrame.sparse.from_spmatrix(data_cat_ohe, columns=column_name)\n",
        "\n",
        "# далее сделаем RobustScaler для TotalSpent\n",
        "transformer = RobustScaler().fit(data_num[['TotalSpent']])\n",
        "data_num_rub = transformer.transform(data_num[['TotalSpent']])\n",
        "rub_frame = pd.DataFrame(data_num_rub, columns=['TotalSpent'])\n",
        "\n",
        "# и стандартизируем данные для ClientPeriod и MonthlySpending\n",
        "scaler = StandardScaler().fit(data_num[['ClientPeriod', 'MonthlySpending']])\n",
        "data_num_scl = scaler.transform(data_num[['ClientPeriod', 'MonthlySpending']])\n",
        "scaler_frame = pd.DataFrame(data_num_scl, columns=['ClientPeriod', 'MonthlySpending'])"
      ]
    },
    {
      "cell_type": "markdown",
      "id": "19680f0e",
      "metadata": {
        "papermill": {
          "duration": 0.024666,
          "end_time": "2022-10-15T20:30:47.947175",
          "exception": false,
          "start_time": "2022-10-15T20:30:47.922509",
          "status": "completed"
        },
        "tags": [],
        "id": "19680f0e"
      },
      "source": [
        "Объединим все получившиеся датафреймы в один"
      ]
    },
    {
      "cell_type": "code",
      "execution_count": null,
      "id": "5ab46f35",
      "metadata": {
        "execution": {
          "iopub.execute_input": "2022-10-15T20:30:48.000294Z",
          "iopub.status.busy": "2022-10-15T20:30:47.999538Z",
          "iopub.status.idle": "2022-10-15T20:30:48.007293Z",
          "shell.execute_reply": "2022-10-15T20:30:48.006400Z"
        },
        "id": "5ab46f35",
        "papermill": {
          "duration": 0.037406,
          "end_time": "2022-10-15T20:30:48.009647",
          "exception": false,
          "start_time": "2022-10-15T20:30:47.972241",
          "status": "completed"
        },
        "tags": []
      },
      "outputs": [],
      "source": [
        "X = pd.concat([scaler_frame, rub_frame, one_hot_encoded_frame], axis=1)\n",
        "y = data[target_col]"
      ]
    },
    {
      "cell_type": "markdown",
      "id": "bef4ac7d",
      "metadata": {
        "papermill": {
          "duration": 0.024663,
          "end_time": "2022-10-15T20:30:48.059772",
          "exception": false,
          "start_time": "2022-10-15T20:30:48.035109",
          "status": "completed"
        },
        "tags": [],
        "id": "bef4ac7d"
      },
      "source": [
        "Посмотрим на закодированные данные"
      ]
    },
    {
      "cell_type": "code",
      "execution_count": null,
      "id": "fe3c94e5",
      "metadata": {
        "execution": {
          "iopub.execute_input": "2022-10-15T20:30:48.113726Z",
          "iopub.status.busy": "2022-10-15T20:30:48.113283Z",
          "iopub.status.idle": "2022-10-15T20:30:48.161780Z",
          "shell.execute_reply": "2022-10-15T20:30:48.160592Z"
        },
        "papermill": {
          "duration": 0.078717,
          "end_time": "2022-10-15T20:30:48.164205",
          "exception": false,
          "start_time": "2022-10-15T20:30:48.085488",
          "status": "completed"
        },
        "tags": [],
        "id": "fe3c94e5",
        "outputId": "4a219d01-bfc2-4b56-9c3e-5d5e2e59746f"
      },
      "outputs": [
        {
          "data": {
            "text/html": [
              "<div>\n",
              "<style scoped>\n",
              "    .dataframe tbody tr th:only-of-type {\n",
              "        vertical-align: middle;\n",
              "    }\n",
              "\n",
              "    .dataframe tbody tr th {\n",
              "        vertical-align: top;\n",
              "    }\n",
              "\n",
              "    .dataframe thead th {\n",
              "        text-align: right;\n",
              "    }\n",
              "</style>\n",
              "<table border=\"1\" class=\"dataframe\">\n",
              "  <thead>\n",
              "    <tr style=\"text-align: right;\">\n",
              "      <th></th>\n",
              "      <th>ClientPeriod</th>\n",
              "      <th>MonthlySpending</th>\n",
              "      <th>TotalSpent</th>\n",
              "      <th>Sex_0</th>\n",
              "      <th>Sex_1</th>\n",
              "      <th>IsSeniorCitizen_0</th>\n",
              "      <th>IsSeniorCitizen_1</th>\n",
              "      <th>HasPartner_0</th>\n",
              "      <th>HasPartner_1</th>\n",
              "      <th>HasChild_0</th>\n",
              "      <th>...</th>\n",
              "      <th>HasMovieSubscription_2</th>\n",
              "      <th>HasContractPhone_0</th>\n",
              "      <th>HasContractPhone_1</th>\n",
              "      <th>HasContractPhone_2</th>\n",
              "      <th>IsBillingPaperless_0</th>\n",
              "      <th>IsBillingPaperless_1</th>\n",
              "      <th>PaymentMethod_0</th>\n",
              "      <th>PaymentMethod_1</th>\n",
              "      <th>PaymentMethod_2</th>\n",
              "      <th>PaymentMethod_3</th>\n",
              "    </tr>\n",
              "  </thead>\n",
              "  <tbody>\n",
              "    <tr>\n",
              "      <th>0</th>\n",
              "      <td>0.920767</td>\n",
              "      <td>-1.505447</td>\n",
              "      <td>-0.114126</td>\n",
              "      <td>0.0</td>\n",
              "      <td>1.0</td>\n",
              "      <td>1.0</td>\n",
              "      <td>0.0</td>\n",
              "      <td>0.0</td>\n",
              "      <td>1.0</td>\n",
              "      <td>0.0</td>\n",
              "      <td>...</td>\n",
              "      <td>0.0</td>\n",
              "      <td>0.0</td>\n",
              "      <td>1.0</td>\n",
              "      <td>0.0</td>\n",
              "      <td>1.0</td>\n",
              "      <td>0.0</td>\n",
              "      <td>0.0</td>\n",
              "      <td>0.0</td>\n",
              "      <td>0.0</td>\n",
              "      <td>1.0</td>\n",
              "    </tr>\n",
              "    <tr>\n",
              "      <th>1</th>\n",
              "      <td>1.613288</td>\n",
              "      <td>-1.294998</td>\n",
              "      <td>0.135121</td>\n",
              "      <td>0.0</td>\n",
              "      <td>1.0</td>\n",
              "      <td>1.0</td>\n",
              "      <td>0.0</td>\n",
              "      <td>0.0</td>\n",
              "      <td>1.0</td>\n",
              "      <td>1.0</td>\n",
              "      <td>...</td>\n",
              "      <td>0.0</td>\n",
              "      <td>0.0</td>\n",
              "      <td>0.0</td>\n",
              "      <td>1.0</td>\n",
              "      <td>1.0</td>\n",
              "      <td>0.0</td>\n",
              "      <td>0.0</td>\n",
              "      <td>1.0</td>\n",
              "      <td>0.0</td>\n",
              "      <td>0.0</td>\n",
              "    </tr>\n",
              "    <tr>\n",
              "      <th>2</th>\n",
              "      <td>-1.279005</td>\n",
              "      <td>0.363737</td>\n",
              "      <td>-0.394195</td>\n",
              "      <td>0.0</td>\n",
              "      <td>1.0</td>\n",
              "      <td>1.0</td>\n",
              "      <td>0.0</td>\n",
              "      <td>1.0</td>\n",
              "      <td>0.0</td>\n",
              "      <td>1.0</td>\n",
              "      <td>...</td>\n",
              "      <td>0.0</td>\n",
              "      <td>1.0</td>\n",
              "      <td>0.0</td>\n",
              "      <td>0.0</td>\n",
              "      <td>0.0</td>\n",
              "      <td>1.0</td>\n",
              "      <td>0.0</td>\n",
              "      <td>0.0</td>\n",
              "      <td>1.0</td>\n",
              "      <td>0.0</td>\n",
              "    </tr>\n",
              "    <tr>\n",
              "      <th>3</th>\n",
              "      <td>-0.016173</td>\n",
              "      <td>0.476418</td>\n",
              "      <td>0.340742</td>\n",
              "      <td>1.0</td>\n",
              "      <td>0.0</td>\n",
              "      <td>0.0</td>\n",
              "      <td>1.0</td>\n",
              "      <td>0.0</td>\n",
              "      <td>1.0</td>\n",
              "      <td>1.0</td>\n",
              "      <td>...</td>\n",
              "      <td>0.0</td>\n",
              "      <td>1.0</td>\n",
              "      <td>0.0</td>\n",
              "      <td>0.0</td>\n",
              "      <td>1.0</td>\n",
              "      <td>0.0</td>\n",
              "      <td>0.0</td>\n",
              "      <td>0.0</td>\n",
              "      <td>0.0</td>\n",
              "      <td>1.0</td>\n",
              "    </tr>\n",
              "    <tr>\n",
              "      <th>4</th>\n",
              "      <td>1.124450</td>\n",
              "      <td>1.667856</td>\n",
              "      <td>1.574953</td>\n",
              "      <td>1.0</td>\n",
              "      <td>0.0</td>\n",
              "      <td>1.0</td>\n",
              "      <td>0.0</td>\n",
              "      <td>0.0</td>\n",
              "      <td>1.0</td>\n",
              "      <td>0.0</td>\n",
              "      <td>...</td>\n",
              "      <td>1.0</td>\n",
              "      <td>0.0</td>\n",
              "      <td>0.0</td>\n",
              "      <td>1.0</td>\n",
              "      <td>1.0</td>\n",
              "      <td>0.0</td>\n",
              "      <td>0.0</td>\n",
              "      <td>1.0</td>\n",
              "      <td>0.0</td>\n",
              "      <td>0.0</td>\n",
              "    </tr>\n",
              "  </tbody>\n",
              "</table>\n",
              "<p>5 rows × 46 columns</p>\n",
              "</div>"
            ],
            "text/plain": [
              "   ClientPeriod  MonthlySpending  TotalSpent  Sex_0  Sex_1  IsSeniorCitizen_0  \\\n",
              "0      0.920767        -1.505447   -0.114126    0.0    1.0                1.0   \n",
              "1      1.613288        -1.294998    0.135121    0.0    1.0                1.0   \n",
              "2     -1.279005         0.363737   -0.394195    0.0    1.0                1.0   \n",
              "3     -0.016173         0.476418    0.340742    1.0    0.0                0.0   \n",
              "4      1.124450         1.667856    1.574953    1.0    0.0                1.0   \n",
              "\n",
              "   IsSeniorCitizen_1  HasPartner_0  HasPartner_1  HasChild_0  ...  \\\n",
              "0                0.0           0.0           1.0         0.0  ...   \n",
              "1                0.0           0.0           1.0         1.0  ...   \n",
              "2                0.0           1.0           0.0         1.0  ...   \n",
              "3                1.0           0.0           1.0         1.0  ...   \n",
              "4                0.0           0.0           1.0         0.0  ...   \n",
              "\n",
              "   HasMovieSubscription_2  HasContractPhone_0  HasContractPhone_1  \\\n",
              "0                     0.0                 0.0                 1.0   \n",
              "1                     0.0                 0.0                 0.0   \n",
              "2                     0.0                 1.0                 0.0   \n",
              "3                     0.0                 1.0                 0.0   \n",
              "4                     1.0                 0.0                 0.0   \n",
              "\n",
              "   HasContractPhone_2  IsBillingPaperless_0  IsBillingPaperless_1  \\\n",
              "0                 0.0                   1.0                   0.0   \n",
              "1                 1.0                   1.0                   0.0   \n",
              "2                 0.0                   0.0                   1.0   \n",
              "3                 0.0                   1.0                   0.0   \n",
              "4                 1.0                   1.0                   0.0   \n",
              "\n",
              "   PaymentMethod_0  PaymentMethod_1  PaymentMethod_2  PaymentMethod_3  \n",
              "0              0.0              0.0              0.0              1.0  \n",
              "1              0.0              1.0              0.0              0.0  \n",
              "2              0.0              0.0              1.0              0.0  \n",
              "3              0.0              0.0              0.0              1.0  \n",
              "4              0.0              1.0              0.0              0.0  \n",
              "\n",
              "[5 rows x 46 columns]"
            ]
          },
          "execution_count": 29,
          "metadata": {},
          "output_type": "execute_result"
        }
      ],
      "source": [
        "X.head()"
      ]
    },
    {
      "cell_type": "markdown",
      "id": "d020a966",
      "metadata": {
        "papermill": {
          "duration": 0.027235,
          "end_time": "2022-10-15T20:30:48.216706",
          "exception": false,
          "start_time": "2022-10-15T20:30:48.189471",
          "status": "completed"
        },
        "tags": [],
        "id": "d020a966"
      },
      "source": [
        "Как видим, все категориальные признаки стали бинарными векторами"
      ]
    },
    {
      "cell_type": "markdown",
      "id": "f2a236a3",
      "metadata": {
        "papermill": {
          "duration": 0.025378,
          "end_time": "2022-10-15T20:30:48.268956",
          "exception": false,
          "start_time": "2022-10-15T20:30:48.243578",
          "status": "completed"
        },
        "tags": [],
        "id": "f2a236a3"
      },
      "source": [
        "Далее разделим выборку на тренировочную и обучающую"
      ]
    },
    {
      "cell_type": "code",
      "execution_count": null,
      "id": "65ce44b3",
      "metadata": {
        "execution": {
          "iopub.execute_input": "2022-10-15T20:30:48.324207Z",
          "iopub.status.busy": "2022-10-15T20:30:48.323101Z",
          "iopub.status.idle": "2022-10-15T20:30:48.358835Z",
          "shell.execute_reply": "2022-10-15T20:30:48.357650Z"
        },
        "papermill": {
          "duration": 0.066728,
          "end_time": "2022-10-15T20:30:48.361761",
          "exception": false,
          "start_time": "2022-10-15T20:30:48.295033",
          "status": "completed"
        },
        "tags": [],
        "id": "65ce44b3"
      },
      "outputs": [],
      "source": [
        "X_train, X_test, y_train, y_test = train_test_split(X, y, train_size=0.7, random_state=42, shuffle=False)"
      ]
    },
    {
      "cell_type": "markdown",
      "id": "e900a7c0",
      "metadata": {
        "papermill": {
          "duration": 0.026784,
          "end_time": "2022-10-15T20:30:48.415815",
          "exception": false,
          "start_time": "2022-10-15T20:30:48.389031",
          "status": "completed"
        },
        "tags": [],
        "id": "e900a7c0"
      },
      "source": [
        "Натренируем нашу модель и посмотрим, какой параметр оказался лучшим"
      ]
    },
    {
      "cell_type": "code",
      "execution_count": null,
      "id": "0a74d60e",
      "metadata": {
        "execution": {
          "iopub.execute_input": "2022-10-15T20:30:48.471527Z",
          "iopub.status.busy": "2022-10-15T20:30:48.470979Z",
          "iopub.status.idle": "2022-10-15T20:30:50.507619Z",
          "shell.execute_reply": "2022-10-15T20:30:50.506284Z"
        },
        "papermill": {
          "duration": 2.071533,
          "end_time": "2022-10-15T20:30:50.513940",
          "exception": false,
          "start_time": "2022-10-15T20:30:48.442407",
          "status": "completed"
        },
        "tags": [],
        "id": "0a74d60e",
        "outputId": "97d13930-c588-49af-d1b7-bb4eb1a54164"
      },
      "outputs": [
        {
          "name": "stdout",
          "output_type": "stream",
          "text": [
            "Best parameter (CV score=0.843):\n",
            "[2.7825594]\n"
          ]
        }
      ],
      "source": [
        "cl = LogisticRegressionCV()\n",
        "cl.fit(X_train, y_train)\n",
        "y_pred = cl.predict_proba(X_test)[:, 1]\n",
        "print(\"Best parameter (CV score=%0.3f):\" % roc_auc_score(y_test, y_pred))\n",
        "print(cl.C_)"
      ]
    },
    {
      "cell_type": "markdown",
      "id": "441c0710",
      "metadata": {
        "papermill": {
          "duration": 0.049174,
          "end_time": "2022-10-15T20:30:50.632634",
          "exception": false,
          "start_time": "2022-10-15T20:30:50.583460",
          "status": "completed"
        },
        "tags": [],
        "id": "441c0710"
      },
      "source": [
        "Посмотрим, что получилось на тренировочной выборке"
      ]
    },
    {
      "cell_type": "code",
      "execution_count": null,
      "id": "ff573d8d",
      "metadata": {
        "execution": {
          "iopub.execute_input": "2022-10-15T20:30:50.688079Z",
          "iopub.status.busy": "2022-10-15T20:30:50.687681Z",
          "iopub.status.idle": "2022-10-15T20:30:50.707644Z",
          "shell.execute_reply": "2022-10-15T20:30:50.705518Z"
        },
        "papermill": {
          "duration": 0.052125,
          "end_time": "2022-10-15T20:30:50.711196",
          "exception": false,
          "start_time": "2022-10-15T20:30:50.659071",
          "status": "completed"
        },
        "tags": [],
        "id": "ff573d8d",
        "outputId": "70a284bf-35b4-4e7b-abf2-9adc31b655ad"
      },
      "outputs": [
        {
          "name": "stdout",
          "output_type": "stream",
          "text": [
            "Best parameter (CV score=0.850):\n",
            "[2.7825594]\n"
          ]
        }
      ],
      "source": [
        "y_pred = cl.predict_proba(X_train)[:, 1]\n",
        "print(\"Best parameter (CV score=%0.3f):\" % roc_auc_score(y_train, y_pred))\n",
        "print(cl.C_)"
      ]
    },
    {
      "cell_type": "markdown",
      "id": "1b9c86f2",
      "metadata": {
        "papermill": {
          "duration": 0.050201,
          "end_time": "2022-10-15T20:30:50.829844",
          "exception": false,
          "start_time": "2022-10-15T20:30:50.779643",
          "status": "completed"
        },
        "tags": [],
        "id": "1b9c86f2"
      },
      "source": [
        "Видим, что метрика на тестах не сильно хуже, чем на тренировочной выборке"
      ]
    },
    {
      "cell_type": "markdown",
      "id": "61c65c68",
      "metadata": {
        "papermill": {
          "duration": 0.025365,
          "end_time": "2022-10-15T20:30:50.880721",
          "exception": false,
          "start_time": "2022-10-15T20:30:50.855356",
          "status": "completed"
        },
        "tags": [],
        "id": "61c65c68"
      },
      "source": [
        "Теперь попробуем сделать вариант с пайплайном. Для этого возьмем необработанные данные"
      ]
    },
    {
      "cell_type": "code",
      "execution_count": null,
      "id": "7db644bc",
      "metadata": {
        "execution": {
          "iopub.execute_input": "2022-10-15T20:30:50.933832Z",
          "iopub.status.busy": "2022-10-15T20:30:50.933410Z",
          "iopub.status.idle": "2022-10-15T20:30:50.943970Z",
          "shell.execute_reply": "2022-10-15T20:30:50.943078Z"
        },
        "papermill": {
          "duration": 0.040059,
          "end_time": "2022-10-15T20:30:50.946395",
          "exception": false,
          "start_time": "2022-10-15T20:30:50.906336",
          "status": "completed"
        },
        "tags": [],
        "id": "7db644bc"
      },
      "outputs": [],
      "source": [
        "X = pd.concat([data[num_cols], data[cat_cols]], axis=1)"
      ]
    },
    {
      "cell_type": "markdown",
      "id": "0a91c5bf",
      "metadata": {
        "papermill": {
          "duration": 0.026637,
          "end_time": "2022-10-15T20:30:50.999284",
          "exception": false,
          "start_time": "2022-10-15T20:30:50.972647",
          "status": "completed"
        },
        "tags": [],
        "id": "0a91c5bf"
      },
      "source": [
        "Напишем необходимые параметры для пайплайна и передадим их в него. Далее зададим параметры для gridsearch и натренируем модель"
      ]
    },
    {
      "cell_type": "code",
      "execution_count": null,
      "id": "bf2d8ceb",
      "metadata": {
        "execution": {
          "iopub.execute_input": "2022-10-15T20:30:51.057317Z",
          "iopub.status.busy": "2022-10-15T20:30:51.056707Z",
          "iopub.status.idle": "2022-10-15T20:31:00.346669Z",
          "shell.execute_reply": "2022-10-15T20:31:00.344977Z"
        },
        "papermill": {
          "duration": 9.323449,
          "end_time": "2022-10-15T20:31:00.351612",
          "exception": false,
          "start_time": "2022-10-15T20:30:51.028163",
          "status": "completed"
        },
        "tags": [],
        "id": "bf2d8ceb",
        "outputId": "41932a87-3616-4e09-b54e-6b8028e4d876"
      },
      "outputs": [
        {
          "name": "stdout",
          "output_type": "stream",
          "text": [
            "Best parameter (CV score=0.845):\n",
            "{'logisticregression__C': 10}\n"
          ]
        }
      ],
      "source": [
        "numeric_transformer = StandardScaler()\n",
        "categorical_transformer = make_pipeline(OneHotEncoder())\n",
        "full_pipe = ColumnTransformer([\n",
        "    ('num', numeric_transformer, num_cols),\n",
        "    ('cat', categorical_transformer, cat_cols)\n",
        "    ])\n",
        "classifier_pipeline = make_pipeline(full_pipe, LogisticRegression())\n",
        "param_grid = {\"logisticregression__C\": [100, 10, 1, 0.1, 0.01, 0.001]}\n",
        "search = GridSearchCV(classifier_pipeline, param_grid, cv=7, scoring='roc_auc', refit=True)\n",
        "search.fit(X, y)\n",
        "print(\"Best parameter (CV score=%0.3f):\" % search.best_score_)\n",
        "print(search.best_params_)"
      ]
    },
    {
      "cell_type": "markdown",
      "id": "579a4741",
      "metadata": {
        "id": "579a4741",
        "papermill": {
          "duration": 0.0528,
          "end_time": "2022-10-15T20:31:00.469771",
          "exception": false,
          "start_time": "2022-10-15T20:31:00.416971",
          "status": "completed"
        },
        "tags": []
      },
      "source": [
        "Выпишите какое лучшее качество и с какими параметрами вам удалось получить"
      ]
    },
    {
      "cell_type": "markdown",
      "id": "de78d95f",
      "metadata": {
        "id": "de78d95f",
        "papermill": {
          "duration": 0.02605,
          "end_time": "2022-10-15T20:31:00.522206",
          "exception": false,
          "start_time": "2022-10-15T20:31:00.496156",
          "status": "completed"
        },
        "tags": []
      },
      "source": [
        "Лучшее качество: 0.845, параметр C = 10"
      ]
    },
    {
      "cell_type": "markdown",
      "id": "9460c52a",
      "metadata": {
        "id": "9460c52a",
        "papermill": {
          "duration": 0.026087,
          "end_time": "2022-10-15T20:31:00.574400",
          "exception": false,
          "start_time": "2022-10-15T20:31:00.548313",
          "status": "completed"
        },
        "tags": []
      },
      "source": [
        "## Применение градиентного бустинга (2 балла)\n",
        "\n",
        "Если вы хотите получить баллы за точный ответ, то стоит попробовать градиентный бустинг. Часто градиентный бустинг с дефолтными параметрами даст вам 80% результата за 0% усилий.\n",
        "\n",
        "Мы будем использовать catboost, поэтому нам не надо кодировать категориальные признаки. catboost сделает это сам (в .fit() надо передать cat_features=cat_cols). А численные признаки нормировать для моделей, основанных на деревьях не нужно.\n",
        "\n",
        "1) Разделите выборку на train/valid. Протестируйте catboost cо стандартными параметрами.\n",
        "\n",
        "2) Протестируйте разные занчения параметроа количества деревьев и learning_rate'а и выберите лучшую по метрике ROC-AUC комбинацию. \n",
        "\n",
        "(Дополнительно) Есть некоторые сложности с тем, чтобы использовать CatBoostClassifier вместе с GridSearchCV, поэтому мы не просим использовать кроссвалидацию. Но можете попробовать)"
      ]
    },
    {
      "cell_type": "code",
      "execution_count": null,
      "id": "88b5aeba",
      "metadata": {
        "execution": {
          "iopub.execute_input": "2022-10-15T20:31:00.628794Z",
          "iopub.status.busy": "2022-10-15T20:31:00.628366Z",
          "iopub.status.idle": "2022-10-15T20:31:01.002290Z",
          "shell.execute_reply": "2022-10-15T20:31:01.000878Z"
        },
        "id": "88b5aeba",
        "papermill": {
          "duration": 0.404188,
          "end_time": "2022-10-15T20:31:01.005112",
          "exception": false,
          "start_time": "2022-10-15T20:31:00.600924",
          "status": "completed"
        },
        "tags": []
      },
      "outputs": [],
      "source": [
        "from catboost import CatBoostClassifier"
      ]
    },
    {
      "cell_type": "markdown",
      "id": "feb63ec1",
      "metadata": {
        "papermill": {
          "duration": 0.025945,
          "end_time": "2022-10-15T20:31:01.057491",
          "exception": false,
          "start_time": "2022-10-15T20:31:01.031546",
          "status": "completed"
        },
        "tags": [],
        "id": "feb63ec1"
      },
      "source": [
        "Разделяем выборку"
      ]
    },
    {
      "cell_type": "code",
      "execution_count": null,
      "id": "3cdfa065",
      "metadata": {
        "execution": {
          "iopub.execute_input": "2022-10-15T20:31:01.113139Z",
          "iopub.status.busy": "2022-10-15T20:31:01.112736Z",
          "iopub.status.idle": "2022-10-15T20:31:01.120965Z",
          "shell.execute_reply": "2022-10-15T20:31:01.120038Z"
        },
        "papermill": {
          "duration": 0.03961,
          "end_time": "2022-10-15T20:31:01.123441",
          "exception": false,
          "start_time": "2022-10-15T20:31:01.083831",
          "status": "completed"
        },
        "tags": [],
        "id": "3cdfa065"
      },
      "outputs": [],
      "source": [
        "X_train, X_test, y_train, y_test = train_test_split(X, y, train_size=0.8, random_state=42, shuffle=False)"
      ]
    },
    {
      "cell_type": "markdown",
      "id": "22454ea2",
      "metadata": {
        "papermill": {
          "duration": 0.025908,
          "end_time": "2022-10-15T20:31:01.175989",
          "exception": false,
          "start_time": "2022-10-15T20:31:01.150081",
          "status": "completed"
        },
        "tags": [],
        "id": "22454ea2"
      },
      "source": [
        "Catboost со стандартными параметрами"
      ]
    },
    {
      "cell_type": "code",
      "execution_count": null,
      "id": "08af8480",
      "metadata": {
        "execution": {
          "iopub.execute_input": "2022-10-15T20:31:01.232321Z",
          "iopub.status.busy": "2022-10-15T20:31:01.231701Z",
          "iopub.status.idle": "2022-10-15T20:31:12.591481Z",
          "shell.execute_reply": "2022-10-15T20:31:12.589800Z"
        },
        "papermill": {
          "duration": 11.391138,
          "end_time": "2022-10-15T20:31:12.594766",
          "exception": false,
          "start_time": "2022-10-15T20:31:01.203628",
          "status": "completed"
        },
        "tags": [],
        "id": "08af8480",
        "outputId": "e696cab4-68b0-4e2c-fbe8-3b6801f5553a"
      },
      "outputs": [
        {
          "name": "stdout",
          "output_type": "stream",
          "text": [
            "ROC_AUC score 0.842):\n"
          ]
        }
      ],
      "source": [
        "cl = CatBoostClassifier(verbose=False)\n",
        "cl.fit(X_train, y_train, cat_features=cat_cols)\n",
        "y_pred = cl.predict_proba(X_test)[:, 1]\n",
        "print(f'ROC_AUC score %0.3f):' % roc_auc_score(y_test, y_pred))"
      ]
    },
    {
      "cell_type": "markdown",
      "id": "adb8e53c",
      "metadata": {
        "papermill": {
          "duration": 0.026708,
          "end_time": "2022-10-15T20:31:12.650616",
          "exception": false,
          "start_time": "2022-10-15T20:31:12.623908",
          "status": "completed"
        },
        "tags": [],
        "id": "adb8e53c"
      },
      "source": [
        "Посмотрим на параметры классификатора"
      ]
    },
    {
      "cell_type": "code",
      "execution_count": null,
      "id": "bc9e044f",
      "metadata": {
        "execution": {
          "iopub.execute_input": "2022-10-15T20:31:12.706377Z",
          "iopub.status.busy": "2022-10-15T20:31:12.705991Z",
          "iopub.status.idle": "2022-10-15T20:31:12.715542Z",
          "shell.execute_reply": "2022-10-15T20:31:12.714260Z"
        },
        "papermill": {
          "duration": 0.039771,
          "end_time": "2022-10-15T20:31:12.718012",
          "exception": false,
          "start_time": "2022-10-15T20:31:12.678241",
          "status": "completed"
        },
        "tags": [],
        "id": "bc9e044f",
        "outputId": "811977d4-53d3-432b-aec2-afc60fece580"
      },
      "outputs": [
        {
          "data": {
            "text/plain": [
              "{'nan_mode': 'Min',\n",
              " 'eval_metric': 'Logloss',\n",
              " 'combinations_ctr': ['Borders:CtrBorderCount=15:CtrBorderType=Uniform:TargetBorderCount=1:TargetBorderType=MinEntropy:Prior=0/1:Prior=0.5/1:Prior=1/1',\n",
              "  'Counter:CtrBorderCount=15:CtrBorderType=Uniform:Prior=0/1'],\n",
              " 'iterations': 1000,\n",
              " 'sampling_frequency': 'PerTree',\n",
              " 'fold_permutation_block': 0,\n",
              " 'leaf_estimation_method': 'Newton',\n",
              " 'counter_calc_method': 'SkipTest',\n",
              " 'grow_policy': 'SymmetricTree',\n",
              " 'penalties_coefficient': 1,\n",
              " 'boosting_type': 'Plain',\n",
              " 'model_shrink_mode': 'Constant',\n",
              " 'feature_border_type': 'GreedyLogSum',\n",
              " 'ctr_leaf_count_limit': 18446744073709551615,\n",
              " 'bayesian_matrix_reg': 0.10000000149011612,\n",
              " 'one_hot_max_size': 2,\n",
              " 'force_unit_auto_pair_weights': False,\n",
              " 'l2_leaf_reg': 3,\n",
              " 'random_strength': 1,\n",
              " 'rsm': 1,\n",
              " 'boost_from_average': False,\n",
              " 'max_ctr_complexity': 4,\n",
              " 'model_size_reg': 0.5,\n",
              " 'simple_ctr': ['Borders:CtrBorderCount=15:CtrBorderType=Uniform:TargetBorderCount=1:TargetBorderType=MinEntropy:Prior=0/1:Prior=0.5/1:Prior=1/1',\n",
              "  'Counter:CtrBorderCount=15:CtrBorderType=Uniform:Prior=0/1'],\n",
              " 'pool_metainfo_options': {'tags': {}},\n",
              " 'subsample': 0.800000011920929,\n",
              " 'use_best_model': False,\n",
              " 'class_names': [0, 1],\n",
              " 'random_seed': 0,\n",
              " 'depth': 6,\n",
              " 'ctr_target_border_count': 1,\n",
              " 'posterior_sampling': False,\n",
              " 'has_time': False,\n",
              " 'store_all_simple_ctr': False,\n",
              " 'border_count': 254,\n",
              " 'classes_count': 0,\n",
              " 'auto_class_weights': 'None',\n",
              " 'sparse_features_conflict_fraction': 0,\n",
              " 'leaf_estimation_backtracking': 'AnyImprovement',\n",
              " 'best_model_min_trees': 1,\n",
              " 'model_shrink_rate': 0,\n",
              " 'min_data_in_leaf': 1,\n",
              " 'loss_function': 'Logloss',\n",
              " 'learning_rate': 0.019061999395489693,\n",
              " 'score_function': 'Cosine',\n",
              " 'task_type': 'CPU',\n",
              " 'leaf_estimation_iterations': 10,\n",
              " 'bootstrap_type': 'MVS',\n",
              " 'max_leaves': 64,\n",
              " 'permutation_count': 4}"
            ]
          },
          "execution_count": 38,
          "metadata": {},
          "output_type": "execute_result"
        }
      ],
      "source": [
        "cl.get_all_params()"
      ]
    },
    {
      "cell_type": "markdown",
      "id": "32e172c8",
      "metadata": {
        "papermill": {
          "duration": 0.026731,
          "end_time": "2022-10-15T20:31:12.771091",
          "exception": false,
          "start_time": "2022-10-15T20:31:12.744360",
          "status": "completed"
        },
        "tags": [],
        "id": "32e172c8"
      },
      "source": [
        "Поэксперементируем с параметрами. Возьмем глубину дерева 3 и зафиксируем. Также зафиксируем параметр subsample. Будем менять lr и n_estimators"
      ]
    },
    {
      "cell_type": "code",
      "execution_count": null,
      "id": "2daf79a1",
      "metadata": {
        "execution": {
          "iopub.execute_input": "2022-10-15T20:31:12.825700Z",
          "iopub.status.busy": "2022-10-15T20:31:12.825297Z",
          "iopub.status.idle": "2022-10-15T20:31:18.261275Z",
          "shell.execute_reply": "2022-10-15T20:31:18.259303Z"
        },
        "papermill": {
          "duration": 5.467634,
          "end_time": "2022-10-15T20:31:18.265450",
          "exception": false,
          "start_time": "2022-10-15T20:31:12.797816",
          "status": "completed"
        },
        "tags": [],
        "id": "2daf79a1",
        "outputId": "e592a65b-95e0-44c5-ce65-424f4cb47af0"
      },
      "outputs": [
        {
          "name": "stdout",
          "output_type": "stream",
          "text": [
            "Для n_estimators=10 и learning_rate=0.1 выполнено. ROC_AUC=0.7969750093589358\n",
            "Для n_estimators=10 и learning_rate=0.05 выполнено. ROC_AUC=0.7940440646086139\n",
            "Для n_estimators=10 и learning_rate=0.01 выполнено. ROC_AUC=0.7966463052747876\n",
            "Для n_estimators=50 и learning_rate=0.1 выполнено. ROC_AUC=0.8366820061905937\n",
            "Для n_estimators=50 и learning_rate=0.05 выполнено. ROC_AUC=0.8289985482236284\n",
            "Для n_estimators=50 и learning_rate=0.01 выполнено. ROC_AUC=0.8095410925758529\n",
            "Для n_estimators=100 и learning_rate=0.1 выполнено. ROC_AUC=0.8405328658430804\n",
            "Для n_estimators=100 и learning_rate=0.05 выполнено. ROC_AUC=0.8384761826499028\n",
            "Для n_estimators=100 и learning_rate=0.01 выполнено. ROC_AUC=0.8126500853717553\n",
            "Для n_estimators=200 и learning_rate=0.1 выполнено. ROC_AUC=0.8425005250134677\n",
            "Для n_estimators=200 и learning_rate=0.05 выполнено. ROC_AUC=0.8422585622848586\n",
            "Для n_estimators=200 и learning_rate=0.01 выполнено. ROC_AUC=0.8347508696962226\n",
            "\n",
            "Лучшее качество ROC_AUC=0.8425005250134677 достигается при n_estimators=200 и learning_rate=0.1\n"
          ]
        }
      ],
      "source": [
        "N = [10, 50, 100, 200]\n",
        "LR = [0.1, 0.05, 0.01]\n",
        "max_ra, best_n, best_lr = 0, None, None\n",
        "for n in N:\n",
        "    for lr in LR:\n",
        "        cl = CatBoostClassifier(cat_features=cat_cols, n_estimators=n, learning_rate=lr, subsample=0.8, depth=3, verbose=False)\n",
        "        cl.fit(X_train, y_train, cat_features=cat_cols)\n",
        "        y_pred = cl.predict_proba(X_test)[:, 1]\n",
        "        rocauc = roc_auc_score(y_test, y_pred)\n",
        "        if rocauc > max_ra:\n",
        "            max_ra = rocauc\n",
        "            best_n = n\n",
        "            best_lr = lr\n",
        "        print(f'Для n_estimators={n} и learning_rate={lr} выполнено. ROC_AUC={rocauc}')\n",
        "print()\n",
        "print(f'Лучшее качество ROC_AUC={max_ra} достигается при n_estimators={best_n} и learning_rate={best_lr}')"
      ]
    },
    {
      "cell_type": "markdown",
      "id": "a05687de",
      "metadata": {
        "id": "a05687de",
        "papermill": {
          "duration": 0.028022,
          "end_time": "2022-10-15T20:31:18.321201",
          "exception": false,
          "start_time": "2022-10-15T20:31:18.293179",
          "status": "completed"
        },
        "tags": []
      },
      "source": [
        "Выпишите какое лучшее качество и с какими параметрами вам удалось получить"
      ]
    },
    {
      "cell_type": "markdown",
      "id": "619f1c0b",
      "metadata": {
        "id": "619f1c0b",
        "papermill": {
          "duration": 0.027984,
          "end_time": "2022-10-15T20:31:18.378042",
          "exception": false,
          "start_time": "2022-10-15T20:31:18.350058",
          "status": "completed"
        },
        "tags": []
      },
      "source": [
        "Лучшее качество ROC_AUC=0.8425005250134677 достигается при n_estimators=200 и learning_rate=0.1"
      ]
    },
    {
      "cell_type": "markdown",
      "id": "9df65055",
      "metadata": {
        "id": "9df65055",
        "papermill": {
          "duration": 0.028388,
          "end_time": "2022-10-15T20:31:18.433988",
          "exception": false,
          "start_time": "2022-10-15T20:31:18.405600",
          "status": "completed"
        },
        "tags": []
      },
      "source": [
        "# Предсказания"
      ]
    },
    {
      "cell_type": "markdown",
      "id": "62671d47",
      "metadata": {
        "papermill": {
          "duration": 0.027443,
          "end_time": "2022-10-15T20:31:18.489081",
          "exception": false,
          "start_time": "2022-10-15T20:31:18.461638",
          "status": "completed"
        },
        "tags": [],
        "id": "62671d47"
      },
      "source": [
        "В качестве модели возьмем CatBoostClassifier с указанными выше параметрами (n_estimators=200 и learning_rate=0.1) и также возьмем логистическую регрессию с параметром C=10, а затем усредним их предсказания."
      ]
    },
    {
      "cell_type": "code",
      "execution_count": null,
      "id": "f73d6a99",
      "metadata": {
        "execution": {
          "iopub.execute_input": "2022-10-15T20:31:18.549756Z",
          "iopub.status.busy": "2022-10-15T20:31:18.548158Z",
          "iopub.status.idle": "2022-10-15T20:31:19.982466Z",
          "shell.execute_reply": "2022-10-15T20:31:19.981156Z"
        },
        "id": "f73d6a99",
        "papermill": {
          "duration": 1.46798,
          "end_time": "2022-10-15T20:31:19.985490",
          "exception": false,
          "start_time": "2022-10-15T20:31:18.517510",
          "status": "completed"
        },
        "tags": []
      },
      "outputs": [],
      "source": [
        "best_model = CatBoostClassifier(cat_features=cat_cols, n_estimators=200, learning_rate=0.1, subsample=0.8, depth=3, verbose=False)\n",
        "best_model.fit(X, y)\n",
        "best_logreg = search"
      ]
    },
    {
      "cell_type": "code",
      "execution_count": null,
      "id": "83ae77f7",
      "metadata": {
        "execution": {
          "iopub.execute_input": "2022-10-15T20:31:20.041894Z",
          "iopub.status.busy": "2022-10-15T20:31:20.041399Z",
          "iopub.status.idle": "2022-10-15T20:31:20.149589Z",
          "shell.execute_reply": "2022-10-15T20:31:20.147876Z"
        },
        "id": "83ae77f7",
        "papermill": {
          "duration": 0.142811,
          "end_time": "2022-10-15T20:31:20.155440",
          "exception": false,
          "start_time": "2022-10-15T20:31:20.012629",
          "status": "completed"
        },
        "tags": []
      },
      "outputs": [],
      "source": [
        "X_test = pd.read_csv('../input/advanced-dls-spring-2021/test.csv')\n",
        "submission = pd.read_csv('../input/advanced-dls-spring-2021/submission.csv')\n",
        "\n",
        "data = X_test\n",
        "mean_TotalSpent = data[~(data['TotalSpent'] == ' ')]['TotalSpent'].astype(float).mean()\n",
        "data.loc[data[(data['TotalSpent'] == ' ')].index, 'TotalSpent'] = mean_TotalSpent\n",
        "data['TotalSpent'] = data['TotalSpent'].astype(float)\n",
        "X_test = data\n",
        "\n",
        "submission['Churn'] = (best_logreg.predict_proba(X_test)[:, 1] + best_logreg.predict_proba(X_test)[:, 1])/2\n",
        "submission.to_csv('./submission.csv', index=False)"
      ]
    },
    {
      "cell_type": "markdown",
      "id": "846c7640",
      "metadata": {
        "id": "846c7640",
        "papermill": {
          "duration": 0.043124,
          "end_time": "2022-10-15T20:31:20.269349",
          "exception": false,
          "start_time": "2022-10-15T20:31:20.226225",
          "status": "completed"
        },
        "tags": []
      },
      "source": [
        "# Kaggle (5 баллов)\n",
        "\n",
        "Как выставить баллы:\n",
        "\n",
        "1) 1 >= roc auc > 0.84 это 5 баллов\n",
        "\n",
        "2) 0.84 >= roc auc > 0.7 это 3 балла\n",
        "\n",
        "3) 0.7 >= roc auc > 0.6 это 1 балл\n",
        "\n",
        "4) 0.6 >= roc auc это 0 баллов\n",
        "\n",
        "\n",
        "Для выполнения задания необходимо выполнить следующие шаги.\n",
        "* Зарегистрироваться на платформе [kaggle.com](kaggle.com). Процесс выставления оценок будет проходить при подведении итогового рейтинга. Пожалуйста, укажите во вкладке Team -> Team name свои имя и фамилию в формате Имя_Фамилия (важно, чтобы имя и фамилия совпадали с данными на Stepik).\n",
        "* Обучить модель, получить файл с ответами в формате .csv и сдать его в конкурс. Пробуйте и экспериментируйте. Обратите внимание, что вы можете выполнять до 20 попыток сдачи на kaggle в день.\n",
        "* После окончания соревнования отправить в итоговый ноутбук с решением на степик. \n",
        "* После дедлайна проверьте посылки других участников по критериям. Для этого надо зайти на степик, скачать их ноутбук и проверить скор в соревновании."
      ]
    },
    {
      "cell_type": "markdown",
      "source": [
        "![image.png](data:image/png;base64,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)"
      ],
      "metadata": {
        "id": "5Pz1uQ49Zn75"
      },
      "id": "5Pz1uQ49Zn75"
    },
    {
      "cell_type": "markdown",
      "source": [
        "Скор: 0.85131\n",
        "\n",
        "Ник: Елизавета_Горелкина"
      ],
      "metadata": {
        "id": "zM7-cR5tZqFg"
      },
      "id": "zM7-cR5tZqFg"
    }
  ],
  "metadata": {
    "kernelspec": {
      "display_name": "Python 3",
      "language": "python",
      "name": "python3"
    },
    "language_info": {
      "codemirror_mode": {
        "name": "ipython",
        "version": 3
      },
      "file_extension": ".py",
      "mimetype": "text/x-python",
      "name": "python",
      "nbconvert_exporter": "python",
      "pygments_lexer": "ipython3",
      "version": "3.7.12"
    },
    "papermill": {
      "default_parameters": {},
      "duration": 52.79531,
      "end_time": "2022-10-15T20:31:21.222111",
      "environment_variables": {},
      "exception": null,
      "input_path": "__notebook__.ipynb",
      "output_path": "__notebook__.ipynb",
      "parameters": {},
      "start_time": "2022-10-15T20:30:28.426801",
      "version": "2.3.4"
    },
    "colab": {
      "provenance": [],
      "include_colab_link": true
    }
  },
  "nbformat": 4,
  "nbformat_minor": 5
}